{
 "cells": [
  {
   "attachments": {},
   "cell_type": "markdown",
   "metadata": {},
   "source": [
    "# **Level-up my learning**"
   ]
  },
  {
   "attachments": {},
   "cell_type": "markdown",
   "metadata": {},
   "source": [
    "### **1. Setup python env variables in zsh** \n",
    "\n",
    "**step1:Find python**\\\n",
    "Find the location where python is installed.\n",
    "In my case it is installed in:\n",
    ">/opt/homebrew/bin/python3\n",
    "\n",
    "**step2:Add python in file**\\\n",
    "Now add this path in the `'/etc/paths'` file.\n",
    "Open 'paths' file using:\n",
    ">sudo nano /etc/paths\n",
    "Provide your password and add the above line in the file the save using `ctrl+X` then press `Y` and press Enter to save file. Now you can simply type python3 to run python.\n"
   ]
  },
  {
   "attachments": {},
   "cell_type": "markdown",
   "metadata": {},
   "source": [
    "\n",
    "### **2. Adding python3 alias to python**\n",
    "\n",
    "**step1:add `alias python='python3'`**\\\n",
    "To add python alias find the `.zshrc` hidden file in `/Users/arsalanamin`.Using:\n",
    ">sudo nano /users/arsalanamin/.zshrc\n",
    "\n",
    "Provide your password and add `alias python='python3'` in the file the save using `ctrl+X` then press `Y` and press Enter to save file.\n"
   ]
  },
  {
   "attachments": {},
   "cell_type": "markdown",
   "metadata": {},
   "source": [
    "### **3. Regular expressions**\n",
    "\n",
    "**Meta Characters**\n",
    "\n",
    "|character|Desc|\n",
    "|--|--|\n",
    "|[]| A set of characters|\n",
    "|\\ |Signals a special sequence (can also be used to escape special characters)|\n",
    "|.|Any character (except newline character)|\n",
    "|^|Starts with|\n",
    "|$|Ends with|\n",
    "|*| 0 or more occurrences|\n",
    "|+| 1 or more occurrences|\n",
    "|? | 0 or 1 occurences|\n",
    "|{}|Exactly the specified number of occurrences|\n",
    "| \\| | Either or |\n",
    "|() |Capture and group|\n"
   ]
  },
  {
   "attachments": {},
   "cell_type": "markdown",
   "metadata": {},
   "source": [
    "**Special Sequences**\n",
    "\n",
    "|character|Desc|\n",
    "|--|--|\n",
    "|\\A|Returns a match if the specified characters are at the beginning of the string|\n",
    "|\\d|Returns a match where the string contains digits (numbers from 0-9)|\n",
    "|\\b|Returns a match where the specified characters are at the beginning or at the end of a word r” ain\\b.”|\n",
    "|\\s|Returns a match where the string contains a white space character|\n",
    "|\\w|Returns a match where the string contains any word characters (characters from a to Z, digits from 0-9, and the underscore _ character)|\n",
    "|\\Z|Returns a match if the specified characters are at the end of the string|\n",
    "\n",
    "e.g:\n",
    "```python\n",
    "- findall,\n",
    "- search, \n",
    "- split, \n",
    "- sub, \n",
    "- finditer, \n",
    "- sub\n",
    "```"
   ]
  },
  {
   "attachments": {},
   "cell_type": "markdown",
   "metadata": {},
   "source": [
    "#### **Example**"
   ]
  },
  {
   "cell_type": "code",
   "execution_count": 179,
   "metadata": {},
   "outputs": [
    {
     "data": {
      "text/plain": [
       "['123', '456', '789']"
      ]
     },
     "execution_count": 179,
     "metadata": {},
     "output_type": "execute_result"
    }
   ],
   "source": [
    "import re\n",
    "\n",
    "s = \"abc123def456ghi789\"\n",
    "# Find all occurrences of the pattern \\d+\n",
    "re.findall(r'\\d+', s)"
   ]
  },
  {
   "cell_type": "code",
   "execution_count": 180,
   "metadata": {},
   "outputs": [
    {
     "data": {
      "text/plain": [
       "'Im goin to write a hastag element'"
      ]
     },
     "execution_count": 180,
     "metadata": {},
     "output_type": "execute_result"
    }
   ],
   "source": [
    "tweet = 'Im goin to write a #hastag element'\n",
    "\n",
    "# substract '#' from the tweet\n",
    "re.sub(r'#','', tweet)"
   ]
  },
  {
   "attachments": {},
   "cell_type": "markdown",
   "metadata": {},
   "source": [
    "#### **More examples**"
   ]
  },
  {
   "cell_type": "code",
   "execution_count": 181,
   "metadata": {},
   "outputs": [
    {
     "data": {
      "text/plain": [
       "['ity', 'ity', 'ity']"
      ]
     },
     "execution_count": 181,
     "metadata": {},
     "output_type": "execute_result"
    }
   ],
   "source": [
    "txt = \"#bistiProof FollowFriday @France @Fastly @Fasting @Lasting @Roasting @PKuchly57 @Milipol_Paris for\\\n",
    " being top rope rain roun engaged raged vacinity members in my community in nearity :( and :() this week :)' \\\n",
    " https://www.youtube.com/watch?v=g8u0wLvvPSs fax number 20712-1234 itit itit\\\n",
    " +92-234234234 +92-1231415  +92-12311515 +92-12837817\"\n",
    " \n",
    "re.findall(r'.ty',txt)"
   ]
  },
  {
   "cell_type": "code",
   "execution_count": 182,
   "metadata": {},
   "outputs": [
    {
     "data": {
      "text/plain": [
       "['ity', 'ity', 'ity']"
      ]
     },
     "execution_count": 182,
     "metadata": {},
     "output_type": "execute_result"
    }
   ],
   "source": [
    "# any chracter followed by 'ty'\n",
    "re.findall(r'.ty',txt)"
   ]
  },
  {
   "cell_type": "code",
   "execution_count": 183,
   "metadata": {},
   "outputs": [
    {
     "data": {
      "text/plain": [
       "['i',\n",
       " 'i',\n",
       " 'i',\n",
       " 'i',\n",
       " 'i',\n",
       " 'i',\n",
       " 'i',\n",
       " 'i',\n",
       " 'i',\n",
       " 'i',\n",
       " 'i',\n",
       " 'i',\n",
       " 'it',\n",
       " 'i',\n",
       " 'it',\n",
       " 'i',\n",
       " 'it',\n",
       " 'i',\n",
       " 'it',\n",
       " 'it',\n",
       " 'it',\n",
       " 'it']"
      ]
     },
     "execution_count": 183,
     "metadata": {},
     "output_type": "execute_result"
    }
   ],
   "source": [
    "# 'i' then no/zero or any number of occurences of 't'\n",
    "re.findall(r'it*',txt)"
   ]
  },
  {
   "cell_type": "code",
   "execution_count": 184,
   "metadata": {},
   "outputs": [
    {
     "data": {
      "text/plain": [
       "['it', 'it', 'it', 'it', 'it', 'it', 'it']"
      ]
     },
     "execution_count": 184,
     "metadata": {},
     "output_type": "execute_result"
    }
   ],
   "source": [
    "# 'i' then at least 1 or more occurences of t \n",
    "re.findall(r'it+',txt)"
   ]
  },
  {
   "cell_type": "code",
   "execution_count": 185,
   "metadata": {},
   "outputs": [
    {
     "data": {
      "text/plain": [
       "['ged', 'ged', 'm', 'm', 'm', 'mm', 'm', 'm']"
      ]
     },
     "execution_count": 185,
     "metadata": {},
     "output_type": "execute_result"
    }
   ],
   "source": [
    "# gives 'm' with zero or more occurences of m and 'ged' match\n",
    "re.findall(r'mm*|ged',txt)"
   ]
  },
  {
   "cell_type": "code",
   "execution_count": 186,
   "metadata": {},
   "outputs": [
    {
     "data": {
      "text/plain": [
       "['com', 'com']"
      ]
     },
     "execution_count": 186,
     "metadata": {},
     "output_type": "execute_result"
    }
   ],
   "source": [
    "# starts with 'com'\n",
    "re.findall(r'\\bcom',txt)"
   ]
  },
  {
   "cell_type": "code",
   "execution_count": 187,
   "metadata": {},
   "outputs": [
    {
     "data": {
      "text/plain": [
       "['ty', 'ty', 'ty']"
      ]
     },
     "execution_count": 187,
     "metadata": {},
     "output_type": "execute_result"
    }
   ],
   "source": [
    "# ends with 'ty'\n",
    "re.findall(r'ty\\b',txt)"
   ]
  },
  {
   "cell_type": "code",
   "execution_count": 188,
   "metadata": {},
   "outputs": [
    {
     "data": {
      "text/plain": [
       "['top', 'rop']"
      ]
     },
     "execution_count": 188,
     "metadata": {},
     "output_type": "execute_result"
    }
   ],
   "source": [
    "# Returns a match where the string contains any word characters (characters from a to Z, digits from 0-9, and the underscore _ character)\n",
    "re.findall(r'\\wop',txt)"
   ]
  },
  {
   "cell_type": "code",
   "execution_count": 189,
   "metadata": {},
   "outputs": [
    {
     "data": {
      "text/plain": [
       "['Fo', 'Fr', 'Fr', 'Fa', 'Fa']"
      ]
     },
     "execution_count": 189,
     "metadata": {},
     "output_type": "execute_result"
    }
   ],
   "source": [
    "# Returns a match where the string contains any word characters \n",
    "# (characters from a to Z, digits from 0-9, and the underscore _ character)\n",
    "re.findall(r'F\\w',txt)"
   ]
  },
  {
   "cell_type": "code",
   "execution_count": 190,
   "metadata": {},
   "outputs": [
    {
     "data": {
      "text/plain": [
       "['f ', 'f', 'f']"
      ]
     },
     "execution_count": 190,
     "metadata": {},
     "output_type": "execute_result"
    }
   ],
   "source": [
    "re.findall(r'f\\s*',txt)"
   ]
  },
  {
   "cell_type": "code",
   "execution_count": 191,
   "metadata": {},
   "outputs": [
    {
     "data": {
      "text/plain": [
       "['gaged', 'raged']"
      ]
     },
     "execution_count": 191,
     "metadata": {},
     "output_type": "execute_result"
    }
   ],
   "source": [
    "# any word character before 'ged'\n",
    "\n",
    "re.findall(r'\\w.ged',txt)"
   ]
  },
  {
   "cell_type": "code",
   "execution_count": 192,
   "metadata": {},
   "outputs": [
    {
     "data": {
      "text/plain": [
       "['number 20712-1234 itit itit +92-234234234 +92-1231415  +92-12311515 +92-12837817']"
      ]
     },
     "execution_count": 192,
     "metadata": {},
     "output_type": "execute_result"
    }
   ],
   "source": [
    "# zero or more occurence of anything(.) after 'num'\n",
    "re.findall(r'num.*',txt)"
   ]
  },
  {
   "cell_type": "code",
   "execution_count": 193,
   "metadata": {},
   "outputs": [
    {
     "data": {
      "text/plain": [
       "'joim me while I feed the troops. :) '"
      ]
     },
     "execution_count": 193,
     "metadata": {},
     "output_type": "execute_result"
    }
   ],
   "source": [
    "# remove hyperlinks\n",
    "# https?://   # match 'http' or 'https' followed by '://'\n",
    "# .*          # match any number of characters\n",
    "# [\\r\\n]*     # match a newline character (carriage return or line feed)\n",
    "tweet = 'joim me while I feed the troops. :) https://t.co/ZlcsRuUpPY in the mess'\n",
    "re.sub(r'https?:\\/\\/.*[\\r\\n]*', '', tweet)"
   ]
  },
  {
   "cell_type": "code",
   "execution_count": 194,
   "metadata": {},
   "outputs": [
    {
     "data": {
      "text/plain": [
       "'joim me while I feed the troops. :) https://t.co/ZlcsRuUpPY via @audioBoom'"
      ]
     },
     "execution_count": 194,
     "metadata": {},
     "output_type": "execute_result"
    }
   ],
   "source": [
    "# remove old style retweet text \"RT\"\n",
    "tweet = 'RT joim me while I feed the troops. :) https://t.co/ZlcsRuUpPY via @audioBoom'\n",
    "re.sub(r'^RT[\\s]+', '', tweet)"
   ]
  },
  {
   "cell_type": "code",
   "execution_count": 195,
   "metadata": {},
   "outputs": [
    {
     "data": {
      "text/plain": [
       "'RT joim me while I feed   the troops. :) https://t.co/ZlcsRuUpPY via @audioBoom'"
      ]
     },
     "execution_count": 195,
     "metadata": {},
     "output_type": "execute_result"
    }
   ],
   "source": [
    "# remove stock market tickers like $GE\n",
    "# backslash is required for some symbols to be in raw string\n",
    "tweet = 'RT joim me while I feed  $GE the troops. :) https://t.co/ZlcsRuUpPY via @audioBoom'\n",
    "re.sub(r'\\$\\w*', '', tweet)"
   ]
  },
  {
   "attachments": {},
   "cell_type": "markdown",
   "metadata": {},
   "source": [
    "### **3. One Hot Encoding**"
   ]
  },
  {
   "cell_type": "code",
   "execution_count": 196,
   "metadata": {},
   "outputs": [],
   "source": [
    "import pandas as pd\n",
    "import numpy as np\n",
    "from sklearn.preprocessing import OneHotEncoder\n"
   ]
  },
  {
   "cell_type": "code",
   "execution_count": 197,
   "metadata": {},
   "outputs": [
    {
     "data": {
      "text/html": [
       "<div>\n",
       "<style scoped>\n",
       "    .dataframe tbody tr th:only-of-type {\n",
       "        vertical-align: middle;\n",
       "    }\n",
       "\n",
       "    .dataframe tbody tr th {\n",
       "        vertical-align: top;\n",
       "    }\n",
       "\n",
       "    .dataframe thead th {\n",
       "        text-align: right;\n",
       "    }\n",
       "</style>\n",
       "<table border=\"1\" class=\"dataframe\">\n",
       "  <thead>\n",
       "    <tr style=\"text-align: right;\">\n",
       "      <th></th>\n",
       "      <th>col1</th>\n",
       "      <th>col2</th>\n",
       "    </tr>\n",
       "  </thead>\n",
       "  <tbody>\n",
       "    <tr>\n",
       "      <th>0</th>\n",
       "      <td>1</td>\n",
       "      <td>a</td>\n",
       "    </tr>\n",
       "    <tr>\n",
       "      <th>1</th>\n",
       "      <td>2</td>\n",
       "      <td>a</td>\n",
       "    </tr>\n",
       "    <tr>\n",
       "      <th>2</th>\n",
       "      <td>3</td>\n",
       "      <td>b</td>\n",
       "    </tr>\n",
       "    <tr>\n",
       "      <th>3</th>\n",
       "      <td>4</td>\n",
       "      <td>c</td>\n",
       "    </tr>\n",
       "    <tr>\n",
       "      <th>4</th>\n",
       "      <td>4</td>\n",
       "      <td>d</td>\n",
       "    </tr>\n",
       "  </tbody>\n",
       "</table>\n",
       "</div>"
      ],
      "text/plain": [
       "   col1 col2\n",
       "0     1    a\n",
       "1     2    a\n",
       "2     3    b\n",
       "3     4    c\n",
       "4     4    d"
      ]
     },
     "execution_count": 197,
     "metadata": {},
     "output_type": "execute_result"
    }
   ],
   "source": [
    "dic1= {'col1':[1,2,3,4,4], 'col2':['a','a','b','c','d']}\n",
    "df = pd.DataFrame(dic1)\n",
    "df"
   ]
  },
  {
   "cell_type": "code",
   "execution_count": 198,
   "metadata": {},
   "outputs": [
    {
     "data": {
      "text/html": [
       "<div>\n",
       "<style scoped>\n",
       "    .dataframe tbody tr th:only-of-type {\n",
       "        vertical-align: middle;\n",
       "    }\n",
       "\n",
       "    .dataframe tbody tr th {\n",
       "        vertical-align: top;\n",
       "    }\n",
       "\n",
       "    .dataframe thead th {\n",
       "        text-align: right;\n",
       "    }\n",
       "</style>\n",
       "<table border=\"1\" class=\"dataframe\">\n",
       "  <thead>\n",
       "    <tr style=\"text-align: right;\">\n",
       "      <th></th>\n",
       "      <th>col2</th>\n",
       "    </tr>\n",
       "  </thead>\n",
       "  <tbody>\n",
       "    <tr>\n",
       "      <th>0</th>\n",
       "      <td>a</td>\n",
       "    </tr>\n",
       "    <tr>\n",
       "      <th>1</th>\n",
       "      <td>a</td>\n",
       "    </tr>\n",
       "    <tr>\n",
       "      <th>2</th>\n",
       "      <td>b</td>\n",
       "    </tr>\n",
       "    <tr>\n",
       "      <th>3</th>\n",
       "      <td>c</td>\n",
       "    </tr>\n",
       "    <tr>\n",
       "      <th>4</th>\n",
       "      <td>d</td>\n",
       "    </tr>\n",
       "  </tbody>\n",
       "</table>\n",
       "</div>"
      ],
      "text/plain": [
       "  col2\n",
       "0    a\n",
       "1    a\n",
       "2    b\n",
       "3    c\n",
       "4    d"
      ]
     },
     "execution_count": 198,
     "metadata": {},
     "output_type": "execute_result"
    }
   ],
   "source": [
    "categorical = df['col2'].to_frame()\n",
    "categorical"
   ]
  },
  {
   "cell_type": "code",
   "execution_count": 199,
   "metadata": {},
   "outputs": [
    {
     "data": {
      "text/plain": [
       "array([[1., 0., 0., 0.],\n",
       "       [1., 0., 0., 0.],\n",
       "       [0., 1., 0., 0.],\n",
       "       [0., 0., 1., 0.],\n",
       "       [0., 0., 0., 1.]])"
      ]
     },
     "execution_count": 199,
     "metadata": {},
     "output_type": "execute_result"
    }
   ],
   "source": [
    "enc = OneHotEncoder()\n",
    "X_ohe = enc.fit_transform(categorical)\n",
    "X_ohe.toarray()"
   ]
  },
  {
   "cell_type": "code",
   "execution_count": 200,
   "metadata": {},
   "outputs": [
    {
     "data": {
      "text/plain": [
       "Index(['col2'], dtype='object')"
      ]
     },
     "execution_count": 200,
     "metadata": {},
     "output_type": "execute_result"
    }
   ],
   "source": [
    "categorical.columns"
   ]
  },
  {
   "cell_type": "code",
   "execution_count": 201,
   "metadata": {},
   "outputs": [
    {
     "data": {
      "text/plain": [
       "array(['col2_a', 'col2_b', 'col2_c', 'col2_d'], dtype=object)"
      ]
     },
     "execution_count": 201,
     "metadata": {},
     "output_type": "execute_result"
    }
   ],
   "source": [
    "enc.get_feature_names_out(categorical.columns)"
   ]
  },
  {
   "cell_type": "code",
   "execution_count": 202,
   "metadata": {},
   "outputs": [
    {
     "data": {
      "text/html": [
       "<div>\n",
       "<style scoped>\n",
       "    .dataframe tbody tr th:only-of-type {\n",
       "        vertical-align: middle;\n",
       "    }\n",
       "\n",
       "    .dataframe tbody tr th {\n",
       "        vertical-align: top;\n",
       "    }\n",
       "\n",
       "    .dataframe thead th {\n",
       "        text-align: right;\n",
       "    }\n",
       "</style>\n",
       "<table border=\"1\" class=\"dataframe\">\n",
       "  <thead>\n",
       "    <tr style=\"text-align: right;\">\n",
       "      <th></th>\n",
       "      <th>col2_a</th>\n",
       "      <th>col2_b</th>\n",
       "      <th>col2_c</th>\n",
       "      <th>col2_d</th>\n",
       "    </tr>\n",
       "  </thead>\n",
       "  <tbody>\n",
       "    <tr>\n",
       "      <th>0</th>\n",
       "      <td>1.0</td>\n",
       "      <td>0.0</td>\n",
       "      <td>0.0</td>\n",
       "      <td>0.0</td>\n",
       "    </tr>\n",
       "    <tr>\n",
       "      <th>1</th>\n",
       "      <td>1.0</td>\n",
       "      <td>0.0</td>\n",
       "      <td>0.0</td>\n",
       "      <td>0.0</td>\n",
       "    </tr>\n",
       "    <tr>\n",
       "      <th>2</th>\n",
       "      <td>0.0</td>\n",
       "      <td>1.0</td>\n",
       "      <td>0.0</td>\n",
       "      <td>0.0</td>\n",
       "    </tr>\n",
       "    <tr>\n",
       "      <th>3</th>\n",
       "      <td>0.0</td>\n",
       "      <td>0.0</td>\n",
       "      <td>1.0</td>\n",
       "      <td>0.0</td>\n",
       "    </tr>\n",
       "    <tr>\n",
       "      <th>4</th>\n",
       "      <td>0.0</td>\n",
       "      <td>0.0</td>\n",
       "      <td>0.0</td>\n",
       "      <td>1.0</td>\n",
       "    </tr>\n",
       "  </tbody>\n",
       "</table>\n",
       "</div>"
      ],
      "text/plain": [
       "   col2_a  col2_b  col2_c  col2_d\n",
       "0     1.0     0.0     0.0     0.0\n",
       "1     1.0     0.0     0.0     0.0\n",
       "2     0.0     1.0     0.0     0.0\n",
       "3     0.0     0.0     1.0     0.0\n",
       "4     0.0     0.0     0.0     1.0"
      ]
     },
     "execution_count": 202,
     "metadata": {},
     "output_type": "execute_result"
    }
   ],
   "source": [
    "pd.DataFrame(X_ohe.toarray(), columns=enc.get_feature_names_out(categorical.columns))"
   ]
  },
  {
   "attachments": {},
   "cell_type": "markdown",
   "metadata": {},
   "source": [
    "### **4. Using funtools reduce()**\n",
    "python code to demonstrate working of `reduce()`"
   ]
  },
  {
   "cell_type": "code",
   "execution_count": 203,
   "metadata": {},
   "outputs": [
    {
     "name": "stdout",
     "output_type": "stream",
     "text": [
      "The sum of the list elements is :17\n",
      "The sum of the list elements is :17\n"
     ]
    }
   ],
   "source": [
    "import functools\n",
    "\n",
    "lis = [1, 3, 5, 6, 2]\n",
    "\n",
    "def convert(var1, var2):\n",
    "    return var1+var2\n",
    "\n",
    "# the function here takes 2 arguments\n",
    "print(f\"The sum of the list elements is :{functools.reduce(convert, lis)}\")\n",
    "# OR\n",
    "print(f\"The sum of the list elements is :{functools.reduce(lambda a,b:a+b, lis)}\")"
   ]
  },
  {
   "cell_type": "code",
   "execution_count": 204,
   "metadata": {},
   "outputs": [
    {
     "data": {
      "text/html": [
       "<div>\n",
       "<style scoped>\n",
       "    .dataframe tbody tr th:only-of-type {\n",
       "        vertical-align: middle;\n",
       "    }\n",
       "\n",
       "    .dataframe tbody tr th {\n",
       "        vertical-align: top;\n",
       "    }\n",
       "\n",
       "    .dataframe thead th {\n",
       "        text-align: right;\n",
       "    }\n",
       "</style>\n",
       "<table border=\"1\" class=\"dataframe\">\n",
       "  <thead>\n",
       "    <tr style=\"text-align: right;\">\n",
       "      <th></th>\n",
       "      <th>a</th>\n",
       "      <th>b</th>\n",
       "    </tr>\n",
       "  </thead>\n",
       "  <tbody>\n",
       "    <tr>\n",
       "      <th>0</th>\n",
       "      <td>1</td>\n",
       "      <td>112</td>\n",
       "    </tr>\n",
       "    <tr>\n",
       "      <th>0</th>\n",
       "      <td>2</td>\n",
       "      <td>2312</td>\n",
       "    </tr>\n",
       "    <tr>\n",
       "      <th>0</th>\n",
       "      <td>12</td>\n",
       "      <td>22</td>\n",
       "    </tr>\n",
       "  </tbody>\n",
       "</table>\n",
       "</div>"
      ],
      "text/plain": [
       "    a     b\n",
       "0   1   112\n",
       "0   2  2312\n",
       "0  12    22"
      ]
     },
     "execution_count": 204,
     "metadata": {},
     "output_type": "execute_result"
    }
   ],
   "source": [
    "import pandas as pd\n",
    "\n",
    "# concat one dataframe to other and get a single big dataframe at end\n",
    "df1 = pd.DataFrame({'a':[1], 'b':[112]})\n",
    "df2 = pd.DataFrame({'a':[2], 'b':[2312]})\n",
    "df3 = pd.DataFrame({'a':[12], 'b':[22]})\n",
    "\n",
    "all_data = [df1,df2,df3]\n",
    "\n",
    "functools.reduce(lambda a,b:pd.concat([a,b],axis=0), all_data)"
   ]
  },
  {
   "attachments": {},
   "cell_type": "markdown",
   "metadata": {},
   "source": [
    "### **5. Using filter() function**"
   ]
  },
  {
   "cell_type": "code",
   "execution_count": 205,
   "metadata": {},
   "outputs": [
    {
     "name": "stdout",
     "output_type": "stream",
     "text": [
      "[20, 30, 40]\n"
     ]
    }
   ],
   "source": [
    "import re\n",
    "\n",
    "mylist = [1,2,3,20,30,40]\n",
    "\n",
    "newlist = list(filter(lambda x: x if x>10 else None, mylist)) # Read Note below\n",
    "print(newlist)"
   ]
  },
  {
   "cell_type": "code",
   "execution_count": null,
   "metadata": {},
   "outputs": [],
   "source": []
  }
 ],
 "metadata": {
  "kernelspec": {
   "display_name": "venv_nlp",
   "language": "python",
   "name": "python3"
  },
  "language_info": {
   "codemirror_mode": {
    "name": "ipython",
    "version": 3
   },
   "file_extension": ".py",
   "mimetype": "text/x-python",
   "name": "python",
   "nbconvert_exporter": "python",
   "pygments_lexer": "ipython3",
   "version": "3.10.8"
  },
  "orig_nbformat": 4,
  "vscode": {
   "interpreter": {
    "hash": "941d4b074c73a1db479547d2e1f4d6a42e84459ad1e2acc448d189484ba4bbfb"
   }
  }
 },
 "nbformat": 4,
 "nbformat_minor": 2
}
