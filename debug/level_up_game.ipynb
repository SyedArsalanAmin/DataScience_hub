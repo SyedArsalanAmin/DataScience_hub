{
 "cells": [
  {
   "attachments": {},
   "cell_type": "markdown",
   "metadata": {},
   "source": [
    "# **Level-up my learning**"
   ]
  },
  {
   "attachments": {},
   "cell_type": "markdown",
   "metadata": {},
   "source": [
    "### **1. Setup python env variables in zsh** \n",
    "\n",
    "**step1:Find python**\\\n",
    "Find the location where python is installed.\n",
    "In my case it is installed in:\n",
    ">/opt/homebrew/bin/python3\n",
    "\n",
    "**step2:Add python in file**\\\n",
    "Now add this path in the `'/etc/paths'` file.\n",
    "Open 'paths' file using:\n",
    ">sudo nano /etc/paths\n",
    "Provide your password and add the above line in the file the save using `ctrl+X` then press `Y` and press Enter to save file. Now you can simply type python3 to run python.\n"
   ]
  },
  {
   "attachments": {},
   "cell_type": "markdown",
   "metadata": {},
   "source": [
    "\n",
    "### **2. Adding python3 alias to python**\n",
    "\n",
    "**step1:add `alias python='python3'`**\\\n",
    "To add python alias find the `.zshrc` hidden file in `/Users/arsalanamin`.Using:\n",
    ">sudo nano /users/arsalanamin/.zshrc\n",
    "\n",
    "Provide your password and add `alias python='python3'` in the file the save using `ctrl+X` then press `Y` and press Enter to save file.\n"
   ]
  },
  {
   "attachments": {},
   "cell_type": "markdown",
   "metadata": {},
   "source": [
    "### **3. Regular expressions**\n",
    "\n",
    "**Meta Characters**\n",
    "\n",
    "|character|Desc|\n",
    "|--|--|\n",
    "|[]| A set of characters|\n",
    "|\\ |Signals a special sequence (can also be used to escape special characters)|\n",
    "|.|Any character (except newline character)|\n",
    "|^|Starts with|\n",
    "|$|Ends with|\n",
    "|*| 0 or more occurrences|\n",
    "|+| 1 or more occurrences|\n",
    "|? | 0 or 1 occurences|\n",
    "|{}|Exactly the specified number of occurrences|\n",
    "| \\| | Either or |\n",
    "|() |Capture and group|\n",
    "\n",
    "**Special Sequences**\n",
    "|character|Desc|\n",
    "|--|--|\n",
    "|\\A |Returns a match if the specified characters are at the beginning of the string|\n",
    "|\\b |Returns a match where the specified characters are at the beginning or at the end of a word r” ain\\b.”|\n",
    "|\\s |Returns a match where the string contains a white space character|\n",
    "|\\w |Returns a match where the string contains any word characters (characters from a to Z, digits from 0-9, and the underscore _ character)|\n",
    "\n",
    "e.g:\n",
    "```python\n",
    "findall, search, split, sub, finditer\n",
    "patt = re.compile(r'fass')\n",
    "patt = re.compile(r'.adm')\n",
    "patt = re.compile(r'^Tata')\n",
    "patt = re.compile(r'iin$')\n",
    "patt = re.compile(r'ai{2}')\n",
    "patt = re.compile(r'(ai){1}')\n",
    "patt = re.compile(r'ai{1}|Fax')\n",
    "```"
   ]
  },
  {
   "cell_type": "code",
   "execution_count": 140,
   "metadata": {},
   "outputs": [],
   "source": [
    "import re\n",
    "\n",
    "txt = \"#bistiProof FollowFriday @France @Fastly @Fasting @Lasting @Roasting @PKuchly57 @Milipol_Paris for\\\n",
    " being top rope rain roun engaged raged vacinity members in my community in nearity :( and :() this week :)' \\\n",
    " https://www.youtube.com/watch?v=g8u0wLvvPSs fax number 20712-1234 itit itit\\\n",
    " +92-234234234 +92-1231415  +92-12311515 +92-12837817\"\n",
    "\n",
    "def pattern(patt):\n",
    "    patt = re.compile(patt)\n",
    "    matches = patt.finditer(txt)\n",
    "\n",
    "    for i in matches:\n",
    "        print(i)"
   ]
  },
  {
   "cell_type": "code",
   "execution_count": 141,
   "metadata": {},
   "outputs": [
    {
     "name": "stdout",
     "output_type": "stream",
     "text": [
      "<re.Match object; span=(143, 146), match='ity'>\n",
      "<re.Match object; span=(167, 170), match='ity'>\n",
      "<re.Match object; span=(178, 181), match='ity'>\n"
     ]
    }
   ],
   "source": [
    "# any chracter followed by 'ty'\n",
    "pattern(r'.ty')"
   ]
  },
  {
   "cell_type": "code",
   "execution_count": 142,
   "metadata": {},
   "outputs": [
    {
     "name": "stdout",
     "output_type": "stream",
     "text": [
      "<re.Match object; span=(2, 3), match='i'>\n",
      "<re.Match object; span=(5, 6), match='i'>\n",
      "<re.Match object; span=(20, 21), match='i'>\n",
      "<re.Match object; span=(46, 47), match='i'>\n",
      "<re.Match object; span=(55, 56), match='i'>\n",
      "<re.Match object; span=(65, 66), match='i'>\n",
      "<re.Match object; span=(82, 83), match='i'>\n",
      "<re.Match object; span=(84, 85), match='i'>\n",
      "<re.Match object; span=(92, 93), match='i'>\n",
      "<re.Match object; span=(101, 102), match='i'>\n",
      "<re.Match object; span=(116, 117), match='i'>\n",
      "<re.Match object; span=(141, 142), match='i'>\n",
      "<re.Match object; span=(143, 145), match='it'>\n",
      "<re.Match object; span=(155, 156), match='i'>\n",
      "<re.Match object; span=(167, 169), match='it'>\n",
      "<re.Match object; span=(171, 172), match='i'>\n",
      "<re.Match object; span=(178, 180), match='it'>\n",
      "<re.Match object; span=(195, 196), match='i'>\n",
      "<re.Match object; span=(274, 276), match='it'>\n",
      "<re.Match object; span=(276, 278), match='it'>\n",
      "<re.Match object; span=(279, 281), match='it'>\n",
      "<re.Match object; span=(281, 283), match='it'>\n"
     ]
    }
   ],
   "source": [
    "# 'i' then no/zero or any number of occurences of 't'\n",
    "pattern(r'it*')"
   ]
  },
  {
   "cell_type": "code",
   "execution_count": 143,
   "metadata": {},
   "outputs": [
    {
     "name": "stdout",
     "output_type": "stream",
     "text": [
      "<re.Match object; span=(143, 145), match='it'>\n",
      "<re.Match object; span=(167, 169), match='it'>\n",
      "<re.Match object; span=(178, 180), match='it'>\n",
      "<re.Match object; span=(274, 276), match='it'>\n",
      "<re.Match object; span=(276, 278), match='it'>\n",
      "<re.Match object; span=(279, 281), match='it'>\n",
      "<re.Match object; span=(281, 283), match='it'>\n"
     ]
    }
   ],
   "source": [
    "# 'i' then at least 1 or more occurences of t \n",
    "pattern(r'it+')"
   ]
  },
  {
   "cell_type": "code",
   "execution_count": 144,
   "metadata": {},
   "outputs": [
    {
     "name": "stdout",
     "output_type": "stream",
     "text": [
      "<re.Match object; span=(128, 131), match='ged'>\n",
      "<re.Match object; span=(134, 137), match='ged'>\n",
      "<re.Match object; span=(147, 148), match='m'>\n",
      "<re.Match object; span=(149, 150), match='m'>\n",
      "<re.Match object; span=(158, 159), match='m'>\n",
      "<re.Match object; span=(163, 165), match='mm'>\n",
      "<re.Match object; span=(230, 231), match='m'>\n",
      "<re.Match object; span=(258, 259), match='m'>\n"
     ]
    }
   ],
   "source": [
    "# gives 'm' with zero or more occurences of m and 'ged' match\n",
    "pattern(r'mm*|ged')"
   ]
  },
  {
   "cell_type": "code",
   "execution_count": 145,
   "metadata": {},
   "outputs": [
    {
     "name": "stdout",
     "output_type": "stream",
     "text": [
      "<re.Match object; span=(161, 164), match='com'>\n",
      "<re.Match object; span=(228, 231), match='com'>\n"
     ]
    }
   ],
   "source": [
    "# starts with 'com'\n",
    "pattern(r'\\bcom')"
   ]
  },
  {
   "cell_type": "code",
   "execution_count": 146,
   "metadata": {},
   "outputs": [
    {
     "name": "stdout",
     "output_type": "stream",
     "text": [
      "<re.Match object; span=(144, 146), match='ty'>\n",
      "<re.Match object; span=(168, 170), match='ty'>\n",
      "<re.Match object; span=(179, 181), match='ty'>\n"
     ]
    }
   ],
   "source": [
    "# ends with 'ty'\n",
    "pattern(r'ty\\b')"
   ]
  },
  {
   "cell_type": "code",
   "execution_count": 147,
   "metadata": {},
   "outputs": [
    {
     "name": "stdout",
     "output_type": "stream",
     "text": [
      "<re.Match object; span=(105, 108), match='top'>\n",
      "<re.Match object; span=(109, 112), match='rop'>\n"
     ]
    }
   ],
   "source": [
    "# Returns a match where the string contains any word characters (characters from a to Z, digits from 0-9, and the underscore _ character)\n",
    "pattern(r'\\wop')"
   ]
  },
  {
   "cell_type": "code",
   "execution_count": 148,
   "metadata": {},
   "outputs": [
    {
     "name": "stdout",
     "output_type": "stream",
     "text": [
      "<re.Match object; span=(12, 14), match='Fo'>\n",
      "<re.Match object; span=(18, 20), match='Fr'>\n",
      "<re.Match object; span=(26, 28), match='Fr'>\n",
      "<re.Match object; span=(34, 36), match='Fa'>\n",
      "<re.Match object; span=(42, 44), match='Fa'>\n"
     ]
    }
   ],
   "source": [
    "# Returns a match where the string contains any word characters \n",
    "# (characters from a to Z, digits from 0-9, and the underscore _ character)\n",
    "pattern(r'F\\w')"
   ]
  },
  {
   "cell_type": "code",
   "execution_count": 149,
   "metadata": {},
   "outputs": [
    {
     "name": "stdout",
     "output_type": "stream",
     "text": [
      "<re.Match object; span=(10, 12), match='f '>\n",
      "<re.Match object; span=(95, 96), match='f'>\n",
      "<re.Match object; span=(252, 253), match='f'>\n"
     ]
    }
   ],
   "source": [
    "pattern(r'f\\s*')"
   ]
  },
  {
   "cell_type": "code",
   "execution_count": 150,
   "metadata": {},
   "outputs": [
    {
     "name": "stdout",
     "output_type": "stream",
     "text": [
      "<re.Match object; span=(126, 131), match='gaged'>\n",
      "<re.Match object; span=(132, 137), match='raged'>\n"
     ]
    }
   ],
   "source": [
    "# any word character before 'ged'\n",
    "pattern(r'\\w.ged')"
   ]
  },
  {
   "cell_type": "code",
   "execution_count": 151,
   "metadata": {},
   "outputs": [
    {
     "name": "stdout",
     "output_type": "stream",
     "text": [
      "<re.Match object; span=(256, 336), match='number 20712-1234 itit itit +92-234234234 +92-123>\n"
     ]
    }
   ],
   "source": [
    "# zero or more occurence of anything(.) after 'num'\n",
    "pattern(r'num.*')"
   ]
  },
  {
   "cell_type": "code",
   "execution_count": 152,
   "metadata": {},
   "outputs": [
    {
     "name": "stdout",
     "output_type": "stream",
     "text": [
      "['uncover', 'unlock', 'unsafe', 'unemployment']\n"
     ]
    }
   ],
   "source": [
    "import re\n",
    "\n",
    "mylist = [\"dog\", \"cat\", \"wildcat\", \"thundercat\", \"uncover\", \"unlock\", \"unsafe\", \"unemployment\"]\n",
    "r = re.compile(\"un.*\")\n",
    "newlist = list(filter(r.match, mylist)) # Read Note below\n",
    "print(newlist)"
   ]
  },
  {
   "cell_type": "code",
   "execution_count": 171,
   "metadata": {},
   "outputs": [
    {
     "data": {
      "text/plain": [
       "'joim me while I feed the troops. :) '"
      ]
     },
     "execution_count": 171,
     "metadata": {},
     "output_type": "execute_result"
    }
   ],
   "source": [
    "# remove hyperlinks\n",
    "# https?://   # match 'http' or 'https' followed by '://'\n",
    "# .*          # match any number of characters\n",
    "# [\\r\\n]*     # match a newline character (carriage return or line feed)\n",
    "tweet = 'joim me while I feed the troops. :) https://t.co/ZlcsRuUpPY in the mess'\n",
    "re.sub(r'https?:\\/\\/.*[\\r\\n]*', '', tweet)"
   ]
  },
  {
   "cell_type": "code",
   "execution_count": 158,
   "metadata": {},
   "outputs": [
    {
     "data": {
      "text/plain": [
       "'joim me while I feed the troops. :) https://t.co/ZlcsRuUpPY via @audioBoom'"
      ]
     },
     "execution_count": 158,
     "metadata": {},
     "output_type": "execute_result"
    }
   ],
   "source": [
    "# remove old style retweet text \"RT\"\n",
    "tweet = 'RT joim me while I feed the troops. :) https://t.co/ZlcsRuUpPY via @audioBoom'\n",
    "re.sub(r'^RT[\\s]+', '', tweet)"
   ]
  },
  {
   "cell_type": "code",
   "execution_count": 159,
   "metadata": {},
   "outputs": [
    {
     "data": {
      "text/plain": [
       "'joim me while chillin I feed the troops. :) https://t.co/ZlcsRuUpPY via @audioBoom'"
      ]
     },
     "execution_count": 159,
     "metadata": {},
     "output_type": "execute_result"
    }
   ],
   "source": [
    "# remove hashtags\n",
    "# only removing the hash # sign from the word\n",
    "tweet = 'joim me while #chillin I feed the troops. :) https://t.co/ZlcsRuUpPY via @audioBoom'\n",
    "re.sub(r'#', '', tweet)"
   ]
  },
  {
   "cell_type": "code",
   "execution_count": 160,
   "metadata": {},
   "outputs": [
    {
     "data": {
      "text/plain": [
       "'RT joim me while I feed   the troops. :) https://t.co/ZlcsRuUpPY via @audioBoom'"
      ]
     },
     "execution_count": 160,
     "metadata": {},
     "output_type": "execute_result"
    }
   ],
   "source": [
    "# remove stock market tickers like $GE\n",
    "# backslash is required for some symbols to be in raw string\n",
    "tweet = 'RT joim me while I feed  $GE the troops. :) https://t.co/ZlcsRuUpPY via @audioBoom'\n",
    "re.sub(r'\\$\\w*', '', tweet)"
   ]
  },
  {
   "cell_type": "code",
   "execution_count": null,
   "metadata": {},
   "outputs": [],
   "source": []
  }
 ],
 "metadata": {
  "kernelspec": {
   "display_name": "Python 3",
   "language": "python",
   "name": "python3"
  },
  "language_info": {
   "codemirror_mode": {
    "name": "ipython",
    "version": 3
   },
   "file_extension": ".py",
   "mimetype": "text/x-python",
   "name": "python",
   "nbconvert_exporter": "python",
   "pygments_lexer": "ipython3",
   "version": "3.10.8"
  },
  "orig_nbformat": 4,
  "vscode": {
   "interpreter": {
    "hash": "908abd7e78fd4d71ba1be92795635fd82be5080a16e3cc7c1eae8bbfec458fa8"
   }
  }
 },
 "nbformat": 4,
 "nbformat_minor": 2
}
