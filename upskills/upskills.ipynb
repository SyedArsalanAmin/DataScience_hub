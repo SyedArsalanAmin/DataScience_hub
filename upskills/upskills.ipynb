{
 "cells": [
  {
   "attachments": {},
   "cell_type": "markdown",
   "metadata": {},
   "source": [
    "# **Level-up my learning**"
   ]
  },
  {
   "attachments": {},
   "cell_type": "markdown",
   "metadata": {},
   "source": [
    "# **1. Setup python env variables in zsh** \n",
    "\n",
    "**step1:Find python**\\\n",
    "Find the location where python is installed.\n",
    "In my case it is installed in:\n",
    ">/opt/homebrew/bin/python3\n",
    "\n",
    "**step2:Add python in file**\\\n",
    "Now add this path in the `'/etc/paths'` file.\n",
    "Open 'paths' file using:\n",
    ">sudo nano /etc/paths\n",
    "Provide your password and add the above line in the file the save using `ctrl+X` then press `Y` and press Enter to save file. Now you can simply type python3 to run python.\n"
   ]
  },
  {
   "attachments": {},
   "cell_type": "markdown",
   "metadata": {},
   "source": [
    "# **2. Adding python3 alias to python**\n",
    "\n",
    "**step1:add `alias python='python3'`**\\\n",
    "To add python alias find the `.zshrc` hidden file in `/Users/arsalanamin`.Using:\n",
    ">sudo nano /users/arsalanamin/.zshrc\n",
    "\n",
    "Provide your password and add `alias python='python3'` in the file the save using `ctrl+X` then press `Y` and press Enter to save file.\n"
   ]
  },
  {
   "attachments": {},
   "cell_type": "markdown",
   "metadata": {},
   "source": [
    "# **3. Regular expressions**\n",
    "\n",
    "## **Meta Characters**\n",
    "\n",
    "|character|Desc|\n",
    "|--|--|\n",
    "|[]| A set of characters|\n",
    "|\\ |Signals a special sequence (can also be used to escape special characters)|\n",
    "|.|Any character (except newline character)|\n",
    "|^| When at the start of a regular expression means the `start of a string or line`. When it inside a character set means `negation`.\n",
    "|$|Ends with|\n",
    "|*| 0 or more occurrences|\n",
    "|+| 1 or more occurrences|\n",
    "|? | 0 or 1 occurences|\n",
    "|{}|Exactly the specified number of occurrences|\n",
    "| \\| | Either or |\n",
    "|() |Capture and group|\n"
   ]
  },
  {
   "attachments": {},
   "cell_type": "markdown",
   "metadata": {},
   "source": [
    "## **Special Sequences**\n",
    "\n",
    "|character|Desc|\n",
    "|--|--|\n",
    "|\\A|Returns a match if the specified characters are at the beginning of the string|\n",
    "|\\d|Returns a match where the string contains digits (numbers from 0-9)|\n",
    "|\\D|Returns a match where the string DOES NOT contain digits|\n",
    "|\\b|Returns a match where the specified characters are at the beginning or at the end of a word r” ain\\b.”|\n",
    "|\\B|Returns a match where the specified characters are present, but NOT at the beginning (or at the end) of a word. (the \"r\" in the beginning is making sure that the string is being treated as a \"raw string\")|\n",
    "|\\s|Returns a match where the string contains a white space character|\n",
    "|\\S|Returns a match where the string DOES NOT contain a white space character|\n",
    "|\\w|Returns a match where the string contains any word characters (characters from a to Z, digits from 0-9, and the underscore _ character)|\n",
    "|\\W|Returns a match where the string DOES NOT contain any word characters|\n",
    "|\\Z|Returns a match if the specified characters are at the end of the string|\n",
    "\n",
    "\n",
    "## **Sets**\n",
    "|Set| Description|\n",
    "|--|--|\n",
    "|[arn]|Returns a match where one of the specified characters (a, r, or n) is present|\n",
    "|[a-n]|Returns a match for any lower case character, alphabetically between a and n|\n",
    "|[^arn]| Returns a match for any character EXCEPT a, r, and n|\n",
    "|[0-9]|Returns a match for any digit between 0 and 9|\n",
    "|[0,1,2,3]|Returns a match where any of the specified digits (0, 1, 2, or 3) are present|\n",
    "\n",
    "e.g:\n",
    "```python\n",
    "- findall,\n",
    "- search, \n",
    "- split, \n",
    "- sub, \n",
    "- finditer, \n",
    "- sub\n",
    "```"
   ]
  },
  {
   "attachments": {},
   "cell_type": "markdown",
   "metadata": {},
   "source": [
    "#### **Example**"
   ]
  },
  {
   "cell_type": "code",
   "execution_count": 1,
   "metadata": {},
   "outputs": [
    {
     "data": {
      "text/plain": [
       "['123', '456', '789']"
      ]
     },
     "execution_count": 1,
     "metadata": {},
     "output_type": "execute_result"
    }
   ],
   "source": [
    "import re\n",
    "\n",
    "s = \"abc123def456ghi789\"\n",
    "# Find all occurrences of the pattern \\d+\n",
    "re.findall(r'\\d+', s)"
   ]
  },
  {
   "cell_type": "code",
   "execution_count": 2,
   "metadata": {},
   "outputs": [
    {
     "data": {
      "text/plain": [
       "'Im goin to write a hastag element'"
      ]
     },
     "execution_count": 2,
     "metadata": {},
     "output_type": "execute_result"
    }
   ],
   "source": [
    "tweet = 'Im goin to write a #hastag element'\n",
    "\n",
    "# substract '#' from the tweet\n",
    "re.sub(r'#','', tweet)"
   ]
  },
  {
   "cell_type": "code",
   "execution_count": 3,
   "metadata": {},
   "outputs": [
    {
     "name": "stdout",
     "output_type": "stream",
     "text": [
      "Hints-Notion-AI-Assistant-3-0\n"
     ]
    }
   ],
   "source": [
    "import re\n",
    "# removes more 2 or more occurences of '-', replace ' ' and '.' with '-'\n",
    "s = \"Hints-----Notion--AI Assistant 3.0\"\n",
    "s = re.sub(r'-{2,}', '-', s)\n",
    "s = re.sub(r'[\\s.]', '-', s)\n",
    "print(s)"
   ]
  },
  {
   "cell_type": "code",
   "execution_count": 20,
   "metadata": {},
   "outputs": [
    {
     "data": {
      "text/plain": [
       "'\\xa0comments'"
      ]
     },
     "execution_count": 20,
     "metadata": {},
     "output_type": "execute_result"
    }
   ],
   "source": [
    "# remove digits\n",
    "re.sub(r'\\d', '','825\\xa0comments')"
   ]
  },
  {
   "cell_type": "code",
   "execution_count": 19,
   "metadata": {},
   "outputs": [
    {
     "data": {
      "text/plain": [
       "'825'"
      ]
     },
     "execution_count": 19,
     "metadata": {},
     "output_type": "execute_result"
    }
   ],
   "source": [
    "# remove non-digits\n",
    "re.sub(r'\\D', '','825\\xa0comments')"
   ]
  },
  {
   "cell_type": "code",
   "execution_count": 6,
   "metadata": {},
   "outputs": [
    {
     "data": {
      "text/plain": [
       "'\\xa0'"
      ]
     },
     "execution_count": 6,
     "metadata": {},
     "output_type": "execute_result"
    }
   ],
   "source": [
    "# remove words\n",
    "re.sub(r'\\w', '','825\\xa0comments')"
   ]
  },
  {
   "cell_type": "code",
   "execution_count": 7,
   "metadata": {},
   "outputs": [
    {
     "data": {
      "text/plain": [
       "'825comments'"
      ]
     },
     "execution_count": 7,
     "metadata": {},
     "output_type": "execute_result"
    }
   ],
   "source": [
    "# remove non-words\n",
    "re.sub(r'\\W', '','825\\xa0comments')"
   ]
  },
  {
   "cell_type": "code",
   "execution_count": 12,
   "metadata": {},
   "outputs": [
    {
     "data": {
      "text/plain": [
       "'825comments'"
      ]
     },
     "execution_count": 12,
     "metadata": {},
     "output_type": "execute_result"
    }
   ],
   "source": [
    "# remove non-words\n",
    "re.sub(r'[^\\w]', '','825?comments')"
   ]
  },
  {
   "cell_type": "code",
   "execution_count": 18,
   "metadata": {},
   "outputs": [
    {
     "data": {
      "text/plain": [
       "'?'"
      ]
     },
     "execution_count": 18,
     "metadata": {},
     "output_type": "execute_result"
    }
   ],
   "source": [
    "# remove words\n",
    "re.sub(r'\\w', '','825?comments')"
   ]
  },
  {
   "attachments": {},
   "cell_type": "markdown",
   "metadata": {},
   "source": [
    "#### **More examples**"
   ]
  },
  {
   "cell_type": "code",
   "execution_count": 18,
   "metadata": {},
   "outputs": [
    {
     "data": {
      "text/plain": [
       "['ity', 'ity', 'ity']"
      ]
     },
     "execution_count": 18,
     "metadata": {},
     "output_type": "execute_result"
    }
   ],
   "source": [
    "txt = \"#bistiProof FollowFriday @France @Fastly @Fasting @Lasting @Roasting @PKuchly57 @Milipol_Paris for\\\n",
    " being top rope rain roun engaged raged vacinity members in my community in nearity :( and :() this week :)' \\\n",
    " https://www.youtube.com/watch?v=g8u0wLvvPSs fax number 20712-1234 itit itit\\\n",
    " +92-234234234 +92-1231415  +92-12311515 +92-12837817\"\n",
    " \n",
    "re.findall(r'.ty',txt)"
   ]
  },
  {
   "cell_type": "code",
   "execution_count": 19,
   "metadata": {},
   "outputs": [
    {
     "data": {
      "text/plain": [
       "['ity', 'ity', 'ity']"
      ]
     },
     "execution_count": 19,
     "metadata": {},
     "output_type": "execute_result"
    }
   ],
   "source": [
    "# any chracter followed by 'ty'\n",
    "re.findall(r'.ty',txt)"
   ]
  },
  {
   "cell_type": "code",
   "execution_count": 20,
   "metadata": {},
   "outputs": [
    {
     "data": {
      "text/plain": [
       "['i',\n",
       " 'i',\n",
       " 'i',\n",
       " 'i',\n",
       " 'i',\n",
       " 'i',\n",
       " 'i',\n",
       " 'i',\n",
       " 'i',\n",
       " 'i',\n",
       " 'i',\n",
       " 'i',\n",
       " 'it',\n",
       " 'i',\n",
       " 'it',\n",
       " 'i',\n",
       " 'it',\n",
       " 'i',\n",
       " 'it',\n",
       " 'it',\n",
       " 'it',\n",
       " 'it']"
      ]
     },
     "execution_count": 20,
     "metadata": {},
     "output_type": "execute_result"
    }
   ],
   "source": [
    "# 'i' then no/zero or any number of occurences of 't'\n",
    "re.findall(r'it*',txt)"
   ]
  },
  {
   "cell_type": "code",
   "execution_count": 21,
   "metadata": {},
   "outputs": [
    {
     "data": {
      "text/plain": [
       "['it', 'it', 'it', 'it', 'it', 'it', 'it']"
      ]
     },
     "execution_count": 21,
     "metadata": {},
     "output_type": "execute_result"
    }
   ],
   "source": [
    "# 'i' then at least 1 or more occurences of t \n",
    "re.findall(r'it+',txt)"
   ]
  },
  {
   "cell_type": "code",
   "execution_count": 22,
   "metadata": {},
   "outputs": [
    {
     "data": {
      "text/plain": [
       "['ged', 'ged', 'm', 'm', 'm', 'mm', 'm', 'm']"
      ]
     },
     "execution_count": 22,
     "metadata": {},
     "output_type": "execute_result"
    }
   ],
   "source": [
    "# gives 'm' with zero or more occurences of m and 'ged' match\n",
    "re.findall(r'mm*|ged',txt)"
   ]
  },
  {
   "cell_type": "code",
   "execution_count": 23,
   "metadata": {},
   "outputs": [
    {
     "data": {
      "text/plain": [
       "['com', 'com']"
      ]
     },
     "execution_count": 23,
     "metadata": {},
     "output_type": "execute_result"
    }
   ],
   "source": [
    "# starts with 'com'\n",
    "re.findall(r'\\bcom',txt)"
   ]
  },
  {
   "cell_type": "code",
   "execution_count": 24,
   "metadata": {},
   "outputs": [
    {
     "data": {
      "text/plain": [
       "['ty', 'ty', 'ty']"
      ]
     },
     "execution_count": 24,
     "metadata": {},
     "output_type": "execute_result"
    }
   ],
   "source": [
    "# ends with 'ty'\n",
    "re.findall(r'ty\\b',txt)"
   ]
  },
  {
   "cell_type": "code",
   "execution_count": 25,
   "metadata": {},
   "outputs": [
    {
     "data": {
      "text/plain": [
       "['top', 'rop']"
      ]
     },
     "execution_count": 25,
     "metadata": {},
     "output_type": "execute_result"
    }
   ],
   "source": [
    "# Returns a match where the string contains any word characters (characters from a to Z, digits from 0-9, and the underscore _ character)\n",
    "re.findall(r'\\wop',txt)"
   ]
  },
  {
   "cell_type": "code",
   "execution_count": 26,
   "metadata": {},
   "outputs": [
    {
     "data": {
      "text/plain": [
       "['Fo', 'Fr', 'Fr', 'Fa', 'Fa']"
      ]
     },
     "execution_count": 26,
     "metadata": {},
     "output_type": "execute_result"
    }
   ],
   "source": [
    "# Returns a match where the string contains any word characters \n",
    "# (characters from a to Z, digits from 0-9, and the underscore _ character)\n",
    "re.findall(r'F\\w',txt)"
   ]
  },
  {
   "cell_type": "code",
   "execution_count": 27,
   "metadata": {},
   "outputs": [
    {
     "data": {
      "text/plain": [
       "['f ', 'f', 'f']"
      ]
     },
     "execution_count": 27,
     "metadata": {},
     "output_type": "execute_result"
    }
   ],
   "source": [
    "re.findall(r'f\\s*',txt)"
   ]
  },
  {
   "cell_type": "code",
   "execution_count": 28,
   "metadata": {},
   "outputs": [
    {
     "data": {
      "text/plain": [
       "['gaged', 'raged']"
      ]
     },
     "execution_count": 28,
     "metadata": {},
     "output_type": "execute_result"
    }
   ],
   "source": [
    "# any word character before 'ged'\n",
    "\n",
    "re.findall(r'\\w.ged',txt)"
   ]
  },
  {
   "cell_type": "code",
   "execution_count": 29,
   "metadata": {},
   "outputs": [
    {
     "data": {
      "text/plain": [
       "['number 20712-1234 itit itit +92-234234234 +92-1231415  +92-12311515 +92-12837817']"
      ]
     },
     "execution_count": 29,
     "metadata": {},
     "output_type": "execute_result"
    }
   ],
   "source": [
    "# zero or more occurence of anything(.) after 'num'\n",
    "re.findall(r'num.*',txt)"
   ]
  },
  {
   "cell_type": "code",
   "execution_count": 30,
   "metadata": {},
   "outputs": [
    {
     "data": {
      "text/plain": [
       "'joim me while I feed the troops. :) '"
      ]
     },
     "execution_count": 30,
     "metadata": {},
     "output_type": "execute_result"
    }
   ],
   "source": [
    "# remove hyperlinks\n",
    "# https?://   # match 'http' or 'https' followed by '://'\n",
    "# .*          # match any number of characters\n",
    "# [\\r\\n]*     # match a newline character (carriage return or line feed)\n",
    "tweet = 'joim me while I feed the troops. :) https://t.co/ZlcsRuUpPY in the mess'\n",
    "re.sub(r'https?:\\/\\/.*[\\r\\n]*', '', tweet)"
   ]
  },
  {
   "cell_type": "code",
   "execution_count": 31,
   "metadata": {},
   "outputs": [
    {
     "data": {
      "text/plain": [
       "'joim me while I feed the troops. :) https://t.co/ZlcsRuUpPY via @audioBoom'"
      ]
     },
     "execution_count": 31,
     "metadata": {},
     "output_type": "execute_result"
    }
   ],
   "source": [
    "# remove old style retweet text \"RT\"\n",
    "tweet = 'RT joim me while I feed the troops. :) https://t.co/ZlcsRuUpPY via @audioBoom'\n",
    "re.sub(r'^RT[\\s]+', '', tweet)"
   ]
  },
  {
   "cell_type": "code",
   "execution_count": 32,
   "metadata": {},
   "outputs": [
    {
     "data": {
      "text/plain": [
       "'RT joim me while I feed   the troops. :) https://t.co/ZlcsRuUpPY via @audioBoom'"
      ]
     },
     "execution_count": 32,
     "metadata": {},
     "output_type": "execute_result"
    }
   ],
   "source": [
    "# remove stock market tickers like $GE\n",
    "# backslash is required for some symbols to be in raw string\n",
    "tweet = 'RT joim me while I feed  $GE the troops. :) https://t.co/ZlcsRuUpPY via @audioBoom'\n",
    "re.sub(r'\\$\\w*', '', tweet)"
   ]
  },
  {
   "attachments": {},
   "cell_type": "markdown",
   "metadata": {},
   "source": [
    "# **3. One Hot Encoding**"
   ]
  },
  {
   "cell_type": "code",
   "execution_count": 33,
   "metadata": {},
   "outputs": [],
   "source": [
    "import pandas as pd\n",
    "import numpy as np\n",
    "from sklearn.preprocessing import OneHotEncoder"
   ]
  },
  {
   "cell_type": "code",
   "execution_count": 34,
   "metadata": {},
   "outputs": [
    {
     "data": {
      "text/html": [
       "<div>\n",
       "<style scoped>\n",
       "    .dataframe tbody tr th:only-of-type {\n",
       "        vertical-align: middle;\n",
       "    }\n",
       "\n",
       "    .dataframe tbody tr th {\n",
       "        vertical-align: top;\n",
       "    }\n",
       "\n",
       "    .dataframe thead th {\n",
       "        text-align: right;\n",
       "    }\n",
       "</style>\n",
       "<table border=\"1\" class=\"dataframe\">\n",
       "  <thead>\n",
       "    <tr style=\"text-align: right;\">\n",
       "      <th></th>\n",
       "      <th>col1</th>\n",
       "      <th>col2</th>\n",
       "    </tr>\n",
       "  </thead>\n",
       "  <tbody>\n",
       "    <tr>\n",
       "      <th>0</th>\n",
       "      <td>1</td>\n",
       "      <td>a</td>\n",
       "    </tr>\n",
       "    <tr>\n",
       "      <th>1</th>\n",
       "      <td>2</td>\n",
       "      <td>a</td>\n",
       "    </tr>\n",
       "    <tr>\n",
       "      <th>2</th>\n",
       "      <td>3</td>\n",
       "      <td>b</td>\n",
       "    </tr>\n",
       "    <tr>\n",
       "      <th>3</th>\n",
       "      <td>4</td>\n",
       "      <td>c</td>\n",
       "    </tr>\n",
       "    <tr>\n",
       "      <th>4</th>\n",
       "      <td>4</td>\n",
       "      <td>d</td>\n",
       "    </tr>\n",
       "  </tbody>\n",
       "</table>\n",
       "</div>"
      ],
      "text/plain": [
       "   col1 col2\n",
       "0     1    a\n",
       "1     2    a\n",
       "2     3    b\n",
       "3     4    c\n",
       "4     4    d"
      ]
     },
     "execution_count": 34,
     "metadata": {},
     "output_type": "execute_result"
    }
   ],
   "source": [
    "dic1= {'col1':[1,2,3,4,4], 'col2':['a','a','b','c','d']}\n",
    "df = pd.DataFrame(dic1)\n",
    "df"
   ]
  },
  {
   "cell_type": "code",
   "execution_count": 35,
   "metadata": {},
   "outputs": [
    {
     "data": {
      "text/html": [
       "<div>\n",
       "<style scoped>\n",
       "    .dataframe tbody tr th:only-of-type {\n",
       "        vertical-align: middle;\n",
       "    }\n",
       "\n",
       "    .dataframe tbody tr th {\n",
       "        vertical-align: top;\n",
       "    }\n",
       "\n",
       "    .dataframe thead th {\n",
       "        text-align: right;\n",
       "    }\n",
       "</style>\n",
       "<table border=\"1\" class=\"dataframe\">\n",
       "  <thead>\n",
       "    <tr style=\"text-align: right;\">\n",
       "      <th></th>\n",
       "      <th>col2</th>\n",
       "    </tr>\n",
       "  </thead>\n",
       "  <tbody>\n",
       "    <tr>\n",
       "      <th>0</th>\n",
       "      <td>a</td>\n",
       "    </tr>\n",
       "    <tr>\n",
       "      <th>1</th>\n",
       "      <td>a</td>\n",
       "    </tr>\n",
       "    <tr>\n",
       "      <th>2</th>\n",
       "      <td>b</td>\n",
       "    </tr>\n",
       "    <tr>\n",
       "      <th>3</th>\n",
       "      <td>c</td>\n",
       "    </tr>\n",
       "    <tr>\n",
       "      <th>4</th>\n",
       "      <td>d</td>\n",
       "    </tr>\n",
       "  </tbody>\n",
       "</table>\n",
       "</div>"
      ],
      "text/plain": [
       "  col2\n",
       "0    a\n",
       "1    a\n",
       "2    b\n",
       "3    c\n",
       "4    d"
      ]
     },
     "execution_count": 35,
     "metadata": {},
     "output_type": "execute_result"
    }
   ],
   "source": [
    "categorical = df['col2'].to_frame()\n",
    "categorical"
   ]
  },
  {
   "cell_type": "code",
   "execution_count": 36,
   "metadata": {},
   "outputs": [
    {
     "data": {
      "text/plain": [
       "array([[1., 0., 0., 0.],\n",
       "       [1., 0., 0., 0.],\n",
       "       [0., 1., 0., 0.],\n",
       "       [0., 0., 1., 0.],\n",
       "       [0., 0., 0., 1.]])"
      ]
     },
     "execution_count": 36,
     "metadata": {},
     "output_type": "execute_result"
    }
   ],
   "source": [
    "enc = OneHotEncoder()\n",
    "X_ohe = enc.fit_transform(categorical)\n",
    "X_ohe.toarray()"
   ]
  },
  {
   "cell_type": "code",
   "execution_count": 37,
   "metadata": {},
   "outputs": [
    {
     "data": {
      "text/plain": [
       "Index(['col2'], dtype='object')"
      ]
     },
     "execution_count": 37,
     "metadata": {},
     "output_type": "execute_result"
    }
   ],
   "source": [
    "categorical.columns"
   ]
  },
  {
   "cell_type": "code",
   "execution_count": 38,
   "metadata": {},
   "outputs": [
    {
     "data": {
      "text/plain": [
       "array(['col2_a', 'col2_b', 'col2_c', 'col2_d'], dtype=object)"
      ]
     },
     "execution_count": 38,
     "metadata": {},
     "output_type": "execute_result"
    }
   ],
   "source": [
    "enc.get_feature_names_out(categorical.columns)"
   ]
  },
  {
   "cell_type": "code",
   "execution_count": 39,
   "metadata": {},
   "outputs": [
    {
     "data": {
      "text/html": [
       "<div>\n",
       "<style scoped>\n",
       "    .dataframe tbody tr th:only-of-type {\n",
       "        vertical-align: middle;\n",
       "    }\n",
       "\n",
       "    .dataframe tbody tr th {\n",
       "        vertical-align: top;\n",
       "    }\n",
       "\n",
       "    .dataframe thead th {\n",
       "        text-align: right;\n",
       "    }\n",
       "</style>\n",
       "<table border=\"1\" class=\"dataframe\">\n",
       "  <thead>\n",
       "    <tr style=\"text-align: right;\">\n",
       "      <th></th>\n",
       "      <th>col2_a</th>\n",
       "      <th>col2_b</th>\n",
       "      <th>col2_c</th>\n",
       "      <th>col2_d</th>\n",
       "    </tr>\n",
       "  </thead>\n",
       "  <tbody>\n",
       "    <tr>\n",
       "      <th>0</th>\n",
       "      <td>1.0</td>\n",
       "      <td>0.0</td>\n",
       "      <td>0.0</td>\n",
       "      <td>0.0</td>\n",
       "    </tr>\n",
       "    <tr>\n",
       "      <th>1</th>\n",
       "      <td>1.0</td>\n",
       "      <td>0.0</td>\n",
       "      <td>0.0</td>\n",
       "      <td>0.0</td>\n",
       "    </tr>\n",
       "    <tr>\n",
       "      <th>2</th>\n",
       "      <td>0.0</td>\n",
       "      <td>1.0</td>\n",
       "      <td>0.0</td>\n",
       "      <td>0.0</td>\n",
       "    </tr>\n",
       "    <tr>\n",
       "      <th>3</th>\n",
       "      <td>0.0</td>\n",
       "      <td>0.0</td>\n",
       "      <td>1.0</td>\n",
       "      <td>0.0</td>\n",
       "    </tr>\n",
       "    <tr>\n",
       "      <th>4</th>\n",
       "      <td>0.0</td>\n",
       "      <td>0.0</td>\n",
       "      <td>0.0</td>\n",
       "      <td>1.0</td>\n",
       "    </tr>\n",
       "  </tbody>\n",
       "</table>\n",
       "</div>"
      ],
      "text/plain": [
       "   col2_a  col2_b  col2_c  col2_d\n",
       "0     1.0     0.0     0.0     0.0\n",
       "1     1.0     0.0     0.0     0.0\n",
       "2     0.0     1.0     0.0     0.0\n",
       "3     0.0     0.0     1.0     0.0\n",
       "4     0.0     0.0     0.0     1.0"
      ]
     },
     "execution_count": 39,
     "metadata": {},
     "output_type": "execute_result"
    }
   ],
   "source": [
    "pd.DataFrame(X_ohe.toarray(), columns=enc.get_feature_names_out(categorical.columns))"
   ]
  },
  {
   "attachments": {},
   "cell_type": "markdown",
   "metadata": {},
   "source": [
    "# **4. Using functools reduce()**\n",
    "python code to demonstrate working of `reduce()`"
   ]
  },
  {
   "cell_type": "code",
   "execution_count": 40,
   "metadata": {},
   "outputs": [
    {
     "name": "stdout",
     "output_type": "stream",
     "text": [
      "The sum of the list elements is :17\n",
      "The sum of the list elements is :17\n"
     ]
    }
   ],
   "source": [
    "import functools\n",
    "\n",
    "lis = [1, 3, 5, 6, 2]\n",
    "\n",
    "def convert(var1, var2):\n",
    "    return var1+var2\n",
    "\n",
    "# the function here takes 2 arguments\n",
    "print(f\"The sum of the list elements is :{functools.reduce(convert, lis)}\")\n",
    "# OR\n",
    "print(f\"The sum of the list elements is :{functools.reduce(lambda a,b:a+b, lis)}\")"
   ]
  },
  {
   "cell_type": "code",
   "execution_count": 41,
   "metadata": {},
   "outputs": [
    {
     "data": {
      "text/html": [
       "<div>\n",
       "<style scoped>\n",
       "    .dataframe tbody tr th:only-of-type {\n",
       "        vertical-align: middle;\n",
       "    }\n",
       "\n",
       "    .dataframe tbody tr th {\n",
       "        vertical-align: top;\n",
       "    }\n",
       "\n",
       "    .dataframe thead th {\n",
       "        text-align: right;\n",
       "    }\n",
       "</style>\n",
       "<table border=\"1\" class=\"dataframe\">\n",
       "  <thead>\n",
       "    <tr style=\"text-align: right;\">\n",
       "      <th></th>\n",
       "      <th>a</th>\n",
       "      <th>b</th>\n",
       "    </tr>\n",
       "  </thead>\n",
       "  <tbody>\n",
       "    <tr>\n",
       "      <th>0</th>\n",
       "      <td>1</td>\n",
       "      <td>112</td>\n",
       "    </tr>\n",
       "    <tr>\n",
       "      <th>0</th>\n",
       "      <td>2</td>\n",
       "      <td>2312</td>\n",
       "    </tr>\n",
       "    <tr>\n",
       "      <th>0</th>\n",
       "      <td>12</td>\n",
       "      <td>22</td>\n",
       "    </tr>\n",
       "  </tbody>\n",
       "</table>\n",
       "</div>"
      ],
      "text/plain": [
       "    a     b\n",
       "0   1   112\n",
       "0   2  2312\n",
       "0  12    22"
      ]
     },
     "execution_count": 41,
     "metadata": {},
     "output_type": "execute_result"
    }
   ],
   "source": [
    "import pandas as pd\n",
    "\n",
    "# concat one dataframe to other and get a single big dataframe at end\n",
    "df1 = pd.DataFrame({'a':[1], 'b':[112]})\n",
    "df2 = pd.DataFrame({'a':[2], 'b':[2312]})\n",
    "df3 = pd.DataFrame({'a':[12], 'b':[22]})\n",
    "\n",
    "all_data = [df1,df2,df3]\n",
    "\n",
    "functools.reduce(lambda a,b:pd.concat([a,b],axis=0), all_data)"
   ]
  },
  {
   "attachments": {},
   "cell_type": "markdown",
   "metadata": {},
   "source": [
    "# **5. Using filter() function**"
   ]
  },
  {
   "cell_type": "code",
   "execution_count": 42,
   "metadata": {},
   "outputs": [
    {
     "name": "stdout",
     "output_type": "stream",
     "text": [
      "[20, 30, 40]\n"
     ]
    }
   ],
   "source": [
    "import re\n",
    "\n",
    "mylist = [1,2,3,20,30,40]\n",
    "\n",
    "newlist = list(filter(lambda x: x if x>10 else None, mylist)) # Read Note below\n",
    "print(newlist)"
   ]
  },
  {
   "attachments": {},
   "cell_type": "markdown",
   "metadata": {},
   "source": [
    "# **6. One liner statements**"
   ]
  },
  {
   "cell_type": "code",
   "execution_count": 43,
   "metadata": {},
   "outputs": [
    {
     "data": {
      "text/plain": [
       "[0, 1, 2, 3, 4, 5, 6, 7, 8, 9]"
      ]
     },
     "execution_count": 43,
     "metadata": {},
     "output_type": "execute_result"
    }
   ],
   "source": [
    "# one liner for if statement\n",
    "h=1 if 1>2 else 0\n",
    "\n",
    "# one liner for function\n",
    "t = lambda x : x**2\n",
    "t(2)\n",
    "\n",
    "# one liner for loop\n",
    "[x for x in range(10)]"
   ]
  },
  {
   "attachments": {},
   "cell_type": "markdown",
   "metadata": {},
   "source": [
    "# **7. using apply() function**"
   ]
  },
  {
   "cell_type": "code",
   "execution_count": 1,
   "metadata": {},
   "outputs": [
    {
     "data": {
      "text/html": [
       "<div>\n",
       "<style scoped>\n",
       "    .dataframe tbody tr th:only-of-type {\n",
       "        vertical-align: middle;\n",
       "    }\n",
       "\n",
       "    .dataframe tbody tr th {\n",
       "        vertical-align: top;\n",
       "    }\n",
       "\n",
       "    .dataframe thead th {\n",
       "        text-align: right;\n",
       "    }\n",
       "</style>\n",
       "<table border=\"1\" class=\"dataframe\">\n",
       "  <thead>\n",
       "    <tr style=\"text-align: right;\">\n",
       "      <th></th>\n",
       "      <th>date</th>\n",
       "      <th>month</th>\n",
       "      <th>day</th>\n",
       "    </tr>\n",
       "  </thead>\n",
       "  <tbody>\n",
       "    <tr>\n",
       "      <th>0</th>\n",
       "      <td>2023-01-01</td>\n",
       "      <td>1</td>\n",
       "      <td>1</td>\n",
       "    </tr>\n",
       "    <tr>\n",
       "      <th>1</th>\n",
       "      <td>2023-01-02</td>\n",
       "      <td>1</td>\n",
       "      <td>2</td>\n",
       "    </tr>\n",
       "    <tr>\n",
       "      <th>2</th>\n",
       "      <td>2023-01-03</td>\n",
       "      <td>1</td>\n",
       "      <td>3</td>\n",
       "    </tr>\n",
       "  </tbody>\n",
       "</table>\n",
       "</div>"
      ],
      "text/plain": [
       "        date  month  day\n",
       "0 2023-01-01      1    1\n",
       "1 2023-01-02      1    2\n",
       "2 2023-01-03      1    3"
      ]
     },
     "execution_count": 1,
     "metadata": {},
     "output_type": "execute_result"
    }
   ],
   "source": [
    "import pandas as pd\n",
    "df = pd.DataFrame({'date': pd.date_range('2023-01-01', '2023-12-31', freq='D')})\n",
    "df['month'] = df['date'].dt.month\n",
    "df['day'] = df['date'].dt.day\n",
    "df.head(3)"
   ]
  },
  {
   "cell_type": "code",
   "execution_count": 45,
   "metadata": {},
   "outputs": [
    {
     "data": {
      "text/html": [
       "<div>\n",
       "<style scoped>\n",
       "    .dataframe tbody tr th:only-of-type {\n",
       "        vertical-align: middle;\n",
       "    }\n",
       "\n",
       "    .dataframe tbody tr th {\n",
       "        vertical-align: top;\n",
       "    }\n",
       "\n",
       "    .dataframe thead th {\n",
       "        text-align: right;\n",
       "    }\n",
       "</style>\n",
       "<table border=\"1\" class=\"dataframe\">\n",
       "  <thead>\n",
       "    <tr style=\"text-align: right;\">\n",
       "      <th></th>\n",
       "      <th>date</th>\n",
       "      <th>month</th>\n",
       "      <th>day</th>\n",
       "      <th>is_fathers_day</th>\n",
       "    </tr>\n",
       "  </thead>\n",
       "  <tbody>\n",
       "    <tr>\n",
       "      <th>0</th>\n",
       "      <td>2023-01-01</td>\n",
       "      <td>1</td>\n",
       "      <td>1</td>\n",
       "      <td>0</td>\n",
       "    </tr>\n",
       "    <tr>\n",
       "      <th>1</th>\n",
       "      <td>2023-01-02</td>\n",
       "      <td>1</td>\n",
       "      <td>2</td>\n",
       "      <td>0</td>\n",
       "    </tr>\n",
       "    <tr>\n",
       "      <th>2</th>\n",
       "      <td>2023-01-03</td>\n",
       "      <td>1</td>\n",
       "      <td>3</td>\n",
       "      <td>0</td>\n",
       "    </tr>\n",
       "  </tbody>\n",
       "</table>\n",
       "</div>"
      ],
      "text/plain": [
       "        date  month  day  is_fathers_day\n",
       "0 2023-01-01      1    1               0\n",
       "1 2023-01-02      1    2               0\n",
       "2 2023-01-03      1    3               0"
      ]
     },
     "execution_count": 45,
     "metadata": {},
     "output_type": "execute_result"
    }
   ],
   "source": [
    "df['is_fathers_day'] = df.apply(lambda row: 1 if row['month']==6 and row['day']==18 else 0,axis=1)\n",
    "df.head(3)"
   ]
  },
  {
   "attachments": {},
   "cell_type": "markdown",
   "metadata": {},
   "source": [
    "# **Using np.where()**"
   ]
  },
  {
   "cell_type": "code",
   "execution_count": 46,
   "metadata": {},
   "outputs": [
    {
     "data": {
      "text/html": [
       "<div>\n",
       "<style scoped>\n",
       "    .dataframe tbody tr th:only-of-type {\n",
       "        vertical-align: middle;\n",
       "    }\n",
       "\n",
       "    .dataframe tbody tr th {\n",
       "        vertical-align: top;\n",
       "    }\n",
       "\n",
       "    .dataframe thead th {\n",
       "        text-align: right;\n",
       "    }\n",
       "</style>\n",
       "<table border=\"1\" class=\"dataframe\">\n",
       "  <thead>\n",
       "    <tr style=\"text-align: right;\">\n",
       "      <th></th>\n",
       "      <th>date</th>\n",
       "      <th>month</th>\n",
       "      <th>day</th>\n",
       "    </tr>\n",
       "  </thead>\n",
       "  <tbody>\n",
       "    <tr>\n",
       "      <th>0</th>\n",
       "      <td>2023-01-01</td>\n",
       "      <td>1</td>\n",
       "      <td>1</td>\n",
       "    </tr>\n",
       "    <tr>\n",
       "      <th>1</th>\n",
       "      <td>2023-01-02</td>\n",
       "      <td>1</td>\n",
       "      <td>2</td>\n",
       "    </tr>\n",
       "    <tr>\n",
       "      <th>2</th>\n",
       "      <td>2023-01-03</td>\n",
       "      <td>1</td>\n",
       "      <td>3</td>\n",
       "    </tr>\n",
       "  </tbody>\n",
       "</table>\n",
       "</div>"
      ],
      "text/plain": [
       "        date  month  day\n",
       "0 2023-01-01      1    1\n",
       "1 2023-01-02      1    2\n",
       "2 2023-01-03      1    3"
      ]
     },
     "execution_count": 46,
     "metadata": {},
     "output_type": "execute_result"
    }
   ],
   "source": [
    "import pandas as pd\n",
    "import numpy as np\n",
    "df = pd.DataFrame({'date': pd.date_range('2023-01-01', '2023-12-31', freq='D')})\n",
    "df['month'] = df['date'].dt.month\n",
    "df['day'] = df['date'].dt.day\n",
    "df.head(3)"
   ]
  },
  {
   "cell_type": "code",
   "execution_count": 47,
   "metadata": {},
   "outputs": [
    {
     "data": {
      "text/html": [
       "<div>\n",
       "<style scoped>\n",
       "    .dataframe tbody tr th:only-of-type {\n",
       "        vertical-align: middle;\n",
       "    }\n",
       "\n",
       "    .dataframe tbody tr th {\n",
       "        vertical-align: top;\n",
       "    }\n",
       "\n",
       "    .dataframe thead th {\n",
       "        text-align: right;\n",
       "    }\n",
       "</style>\n",
       "<table border=\"1\" class=\"dataframe\">\n",
       "  <thead>\n",
       "    <tr style=\"text-align: right;\">\n",
       "      <th></th>\n",
       "      <th>date</th>\n",
       "      <th>month</th>\n",
       "      <th>day</th>\n",
       "      <th>is_fathers_day</th>\n",
       "    </tr>\n",
       "  </thead>\n",
       "  <tbody>\n",
       "    <tr>\n",
       "      <th>0</th>\n",
       "      <td>2023-01-01</td>\n",
       "      <td>1</td>\n",
       "      <td>1</td>\n",
       "      <td>0</td>\n",
       "    </tr>\n",
       "    <tr>\n",
       "      <th>1</th>\n",
       "      <td>2023-01-02</td>\n",
       "      <td>1</td>\n",
       "      <td>2</td>\n",
       "      <td>0</td>\n",
       "    </tr>\n",
       "    <tr>\n",
       "      <th>2</th>\n",
       "      <td>2023-01-03</td>\n",
       "      <td>1</td>\n",
       "      <td>3</td>\n",
       "      <td>0</td>\n",
       "    </tr>\n",
       "  </tbody>\n",
       "</table>\n",
       "</div>"
      ],
      "text/plain": [
       "        date  month  day  is_fathers_day\n",
       "0 2023-01-01      1    1               0\n",
       "1 2023-01-02      1    2               0\n",
       "2 2023-01-03      1    3               0"
      ]
     },
     "execution_count": 47,
     "metadata": {},
     "output_type": "execute_result"
    }
   ],
   "source": [
    "mask = (df['month']==6) & (df['day']==18 )\n",
    "df['is_fathers_day'] = np.where(mask, 1, 0)\n",
    "df.head(3)"
   ]
  },
  {
   "attachments": {},
   "cell_type": "markdown",
   "metadata": {},
   "source": [
    "## **Using .map() function**"
   ]
  },
  {
   "cell_type": "code",
   "execution_count": 48,
   "metadata": {},
   "outputs": [
    {
     "name": "stdout",
     "output_type": "stream",
     "text": [
      "['1', '2', '3', '4', '5']\n",
      "[1, 4, 9, 16, 25]\n"
     ]
    }
   ],
   "source": [
    "import pandas as pd \n",
    "\n",
    "def sqr(x):\n",
    "    return x**2\n",
    "\n",
    "# map() takes a function that has only one input argument\n",
    "# convert each int to str\n",
    "l1 = list(map(str, [1,2,3,4,5]))\n",
    "\n",
    "# square each element in the list\n",
    "l2 = list(map(sqr, [1,2,3,4,5]))\n",
    "\n",
    "print(l1)\n",
    "print(l2)"
   ]
  },
  {
   "attachments": {},
   "cell_type": "markdown",
   "metadata": {},
   "source": [
    "# **Using args(\\*) and kwargs(\\*\\*):**"
   ]
  },
  {
   "cell_type": "code",
   "execution_count": 49,
   "metadata": {},
   "outputs": [
    {
     "data": {
      "text/plain": [
       "{1, 2, 3, 4, 5, 6, 7}"
      ]
     },
     "execution_count": 49,
     "metadata": {},
     "output_type": "execute_result"
    }
   ],
   "source": [
    "first_it = [1, 2, 3]\n",
    "second_it = [4, 5, 6, 7]\n",
    "\n",
    "{*first_it, *second_it}"
   ]
  },
  {
   "cell_type": "code",
   "execution_count": 50,
   "metadata": {},
   "outputs": [
    {
     "name": "stdout",
     "output_type": "stream",
     "text": [
      "{'a': 1, 'b': 3, 'c': 4}\n"
     ]
    }
   ],
   "source": [
    "x = {'a':1, 'b':2}\n",
    "y = {'b':3, 'c':4}\n",
    "\n",
    "out = {**x,**y}\n",
    "print(out)"
   ]
  },
  {
   "attachments": {},
   "cell_type": "markdown",
   "metadata": {},
   "source": [
    "# **Itertools.chain**"
   ]
  },
  {
   "cell_type": "code",
   "execution_count": 51,
   "metadata": {},
   "outputs": [
    {
     "name": "stdout",
     "output_type": "stream",
     "text": [
      "1\n",
      "2\n",
      "3\n",
      "4\n",
      "5\n",
      "6\n"
     ]
    }
   ],
   "source": [
    "import itertools\n",
    "\n",
    "list1 = [1, 2, 3]\n",
    "list2 = [4, 5, 6]\n",
    "combined = itertools.chain(list1, list2)\n",
    "for num in combined:\n",
    "    print(num)\n"
   ]
  },
  {
   "attachments": {},
   "cell_type": "markdown",
   "metadata": {},
   "source": [
    "# **itertools.combinations**"
   ]
  },
  {
   "cell_type": "code",
   "execution_count": 52,
   "metadata": {},
   "outputs": [
    {
     "name": "stdout",
     "output_type": "stream",
     "text": [
      "('a', 'b')\n",
      "('a', 'c')\n",
      "('a', 'd')\n",
      "('b', 'c')\n",
      "('b', 'd')\n",
      "('c', 'd')\n"
     ]
    }
   ],
   "source": [
    "import itertools\n",
    "\n",
    "letters = ['a', 'b', 'c', 'd']\n",
    "combos = itertools.combinations(letters, 2)\n",
    "for combo in combos:\n",
    "    print(combo)\n"
   ]
  },
  {
   "attachments": {},
   "cell_type": "markdown",
   "metadata": {},
   "source": [
    "# **itertools.cycle**"
   ]
  },
  {
   "cell_type": "code",
   "execution_count": 53,
   "metadata": {},
   "outputs": [
    {
     "name": "stdout",
     "output_type": "stream",
     "text": [
      "red\n",
      "green\n",
      "blue\n",
      "red\n",
      "green\n"
     ]
    }
   ],
   "source": [
    "import itertools\n",
    "\n",
    "colors = ['red', 'green', 'blue']\n",
    "cycle = itertools.cycle(colors)\n",
    "for i in range(5):\n",
    "    print(next(cycle))\n"
   ]
  },
  {
   "attachments": {},
   "cell_type": "markdown",
   "metadata": {},
   "source": [
    "# **itertools.product**"
   ]
  },
  {
   "cell_type": "code",
   "execution_count": 54,
   "metadata": {},
   "outputs": [
    {
     "name": "stdout",
     "output_type": "stream",
     "text": [
      "(1, 'a')\n",
      "(1, 'b')\n",
      "(2, 'a')\n",
      "(2, 'b')\n"
     ]
    }
   ],
   "source": [
    "import itertools\n",
    "\n",
    "numbers = [1, 2]\n",
    "letters = ['a', 'b']\n",
    "product = itertools.product(numbers, letters)\n",
    "for combo in product:\n",
    "    print(combo)\n"
   ]
  },
  {
   "attachments": {},
   "cell_type": "markdown",
   "metadata": {},
   "source": [
    "# **itertools.islice**"
   ]
  },
  {
   "cell_type": "code",
   "execution_count": 55,
   "metadata": {},
   "outputs": [
    {
     "name": "stdout",
     "output_type": "stream",
     "text": [
      "3\n",
      "4\n"
     ]
    }
   ],
   "source": [
    "import itertools\n",
    "\n",
    "numbers = [1, 2, 3, 4, 5]\n",
    "sliced = itertools.islice(numbers, 2, 4)\n",
    "for num in sliced:\n",
    "    print(num)\n"
   ]
  },
  {
   "attachments": {},
   "cell_type": "markdown",
   "metadata": {},
   "source": [
    "# **itertools.groupby**"
   ]
  },
  {
   "cell_type": "code",
   "execution_count": 56,
   "metadata": {},
   "outputs": [
    {
     "name": "stdout",
     "output_type": "stream",
     "text": [
      "a ['a', 'a']\n",
      "b ['b']\n",
      "c ['c']\n",
      "d ['d', 'd', 'd']\n"
     ]
    }
   ],
   "source": [
    "from itertools import groupby\n",
    "\n",
    "# define a list of items to group\n",
    "items = ['a', 'a', 'b','c', 'd','d','d']\n",
    "\n",
    "# use groupby to group the same consecutive items\n",
    "# define a key function that returns the value to group by\n",
    "groups = groupby(items, lambda x: x)\n",
    "\n",
    "# iterate over the groups and print them\n",
    "for key, group in groups:\n",
    "    # key: what same values exist in the group\n",
    "    # group: list of the values in that group\n",
    "    print(key, list(group))\n"
   ]
  },
  {
   "cell_type": "code",
   "execution_count": 57,
   "metadata": {},
   "outputs": [
    {
     "name": "stdout",
     "output_type": "stream",
     "text": [
      "a [('a', 1), ('a', 2)]\n",
      "b [('b', 3)]\n",
      "c [('c', 3)]\n",
      "d [('d', 4), ('d', 4), ('d', 6)]\n"
     ]
    }
   ],
   "source": [
    "# define a list of items to group\n",
    "items = [('a',1), ('a',2), ('b',3),('c',3), ('d',4),('d',4),('d',6)]\n",
    "\n",
    "# groupby list items on the basis of consecutive first element of each list item\n",
    "groups = groupby(items, lambda x: x[0])\n",
    "\n",
    "# iterate over the groups and print them\n",
    "for key, group in groups:\n",
    "    # key: what same values exist in the group\n",
    "    # group: list of the values in that group\n",
    "    print(key, list(group))\n"
   ]
  },
  {
   "attachments": {},
   "cell_type": "markdown",
   "metadata": {},
   "source": [
    "# **collections.Counter**\n",
    "\n",
    "collections.Counter is a built-in class in the Python standard library that is used to count the frequency of elements in an iterable.\n",
    "\n",
    "Here's an example to illustrate how collections.Counter works:"
   ]
  },
  {
   "cell_type": "code",
   "execution_count": 58,
   "metadata": {},
   "outputs": [
    {
     "name": "stdout",
     "output_type": "stream",
     "text": [
      "Counter({4: 4, 3: 3, 2: 2, 1: 1})\n"
     ]
    }
   ],
   "source": [
    "from collections import Counter\n",
    "\n",
    "my_list = [1, 2, 2, 3, 3, 3, 4, 4, 4, 4]\n",
    "counter = Counter(my_list)\n",
    "print(counter)\n"
   ]
  },
  {
   "cell_type": "code",
   "execution_count": 59,
   "metadata": {},
   "outputs": [
    {
     "name": "stdout",
     "output_type": "stream",
     "text": [
      "Counter({'the': 2, 'quick': 1, 'brown': 1, 'fox': 1, 'jumps': 1, 'over': 1, 'lazy': 1, 'dog': 1})\n"
     ]
    }
   ],
   "source": [
    "text = \"the quick brown fox jumps over the lazy dog\"\n",
    "words = text.split()\n",
    "word_counter = Counter(words)\n",
    "print(word_counter)"
   ]
  },
  {
   "attachments": {},
   "cell_type": "markdown",
   "metadata": {},
   "source": [
    "# **collections.namedtuple**\n",
    "**namedtuple**: This is a function that creates a subclass of a tuple that has named fields. This allows you to access fields by name instead of position. Here is an example:"
   ]
  },
  {
   "cell_type": "code",
   "execution_count": 60,
   "metadata": {},
   "outputs": [
    {
     "name": "stdout",
     "output_type": "stream",
     "text": [
      "1\n",
      "2\n"
     ]
    }
   ],
   "source": [
    "from collections import namedtuple\n",
    "\n",
    "Point = namedtuple('Point', ['x', 'y'])\n",
    "p = Point(1, 2)\n",
    "print(p.x)  # Output: 1\n",
    "print(p.y)  # Output: 2\n"
   ]
  },
  {
   "attachments": {},
   "cell_type": "markdown",
   "metadata": {},
   "source": [
    "# **tqdm.tqdm**"
   ]
  },
  {
   "cell_type": "code",
   "execution_count": 66,
   "metadata": {},
   "outputs": [
    {
     "name": "stderr",
     "output_type": "stream",
     "text": [
      "100%|██████████| 20/20 [00:02<00:00,  9.58it/s]\n"
     ]
    }
   ],
   "source": [
    "import numpy as np\n",
    "from tqdm import tqdm\n",
    "from time import sleep\n",
    "\n",
    "# Create a list to loop over\n",
    "my_list = np.arange(0,20)\n",
    "\n",
    "# Wrap the list with tqdm to add a progress bar\n",
    "for item in tqdm(my_list):\n",
    "    # Do some work here\n",
    "\n",
    "    sleep(0.1)"
   ]
  },
  {
   "attachments": {},
   "cell_type": "markdown",
   "metadata": {},
   "source": [
    "# **Python Decorator**\n",
    "In this example, `my_decorator` is a decorator function that takes in another function `func` as its argument. The `wrapper` function is defined inside the decorator function and it is returned by the decorator.\n",
    "\n",
    "The wrapper function adds some functionality before and after the function func is called. In this case, it prints a message before and after calling func.\n",
    "\n",
    "The decorator is applied to the `my_function` function using the @ symbol. This means that my_function is now decorated with the `my_decorator` function. When `my_function` is called, it is actually the wrapper function that is executed, which in turn calls the original `my_function` and adds the extra functionality defined in the decorator."
   ]
  },
  {
   "cell_type": "code",
   "execution_count": 37,
   "metadata": {},
   "outputs": [
    {
     "name": "stdout",
     "output_type": "stream",
     "text": [
      "Before the function is called.\n",
      "Inside the function.\n",
      "After the function is called.\n"
     ]
    }
   ],
   "source": [
    "def my_decorator(func):\n",
    "    def wrapper(*args, **kwargs):\n",
    "        print(\"Before the function is called.\")\n",
    "        func(*args, **kwargs)\n",
    "        print(\"After the function is called.\")\n",
    "    return wrapper\n",
    "\n",
    "@my_decorator\n",
    "def my_function():\n",
    "    print(\"Inside the function.\")\n",
    "\n",
    "my_function()"
   ]
  },
  {
   "attachments": {},
   "cell_type": "markdown",
   "metadata": {},
   "source": [
    "# **Python Logging Module**\n",
    "Logging is an important aspect of software development as it helps developers to understand what is happening within the application, especially when an issue or error occurs. Python provides a built-in logging module that makes it easy to log messages from your application."
   ]
  },
  {
   "cell_type": "code",
   "execution_count": 1,
   "metadata": {},
   "outputs": [],
   "source": [
    "import logging\n",
    "\n",
    "# This will save the logs in the example.log file\n",
    "logging.basicConfig(filename='example.log',\n",
    "                     level=logging.INFO,\n",
    "                     format='%(asctime)s - %(levelname)s - %(message)s'\n",
    "                     )\n",
    "logging.info('This is a log info message.')"
   ]
  },
  {
   "attachments": {},
   "cell_type": "markdown",
   "metadata": {},
   "source": [
    "# **Some Python Decorators to Take Your Code to the Next Level**"
   ]
  },
  {
   "attachments": {},
   "cell_type": "markdown",
   "metadata": {},
   "source": [
    "# **@logger✏️**\n",
    "\n",
    "To write this decroator, you first have to pick an appropriate name: let’s call it logger.\n",
    "\n",
    "logger is a function that takes a function as input and returns a function as output. The output function is usually an extended version of the input. In our case, we want the output function to surround the call of the input function with start and end statements.\n",
    "\n",
    "Since we don’t know what arguments the input function use, we can pass them from the wrapper function using *args and **kwargs. These expressions allow passing an arbitrary number of positional and keyword arguments.\n",
    "\n",
    "Here’s a simple implementation of the logger decorator:"
   ]
  },
  {
   "cell_type": "code",
   "execution_count": 1,
   "metadata": {},
   "outputs": [],
   "source": [
    "def logger(function):\n",
    "    def wrapper(*args, **kwargs):\n",
    "        print(f\"----- {function.__name__}: start -----\")\n",
    "        output = function(*args, **kwargs)\n",
    "        print(f\"----- {function.__name__}: end -----\")\n",
    "        return output\n",
    "    return wrapper"
   ]
  },
  {
   "cell_type": "code",
   "execution_count": 2,
   "metadata": {},
   "outputs": [
    {
     "name": "stdout",
     "output_type": "stream",
     "text": [
      "----- some_function: start -----\n",
      "first test\n",
      "----- some_function: end -----\n"
     ]
    }
   ],
   "source": [
    "@logger\n",
    "def some_function(text):\n",
    "    print(text)\n",
    "\n",
    "some_function(\"first test\")\n",
    "# ----- some_function: start -----\n",
    "# first test\n",
    "# ----- some_function: end -----\n"
   ]
  },
  {
   "attachments": {},
   "cell_type": "markdown",
   "metadata": {},
   "source": [
    "# **@repeat 🔁**\n",
    "This decorator causes a function to be called multiple times in a row.\n",
    "This can be useful for debugging purposes, stress tests, or automating the repetition of multiple tasks.\n",
    "Unlike the previous decorators, this one expects an input parameter.\n",
    "\n"
   ]
  },
  {
   "cell_type": "code",
   "execution_count": 5,
   "metadata": {},
   "outputs": [],
   "source": [
    "from functools import wraps\n",
    "def repeat(number_of_times):\n",
    "    def decorate(func):\n",
    "        @wraps(func)\n",
    "        def wrapper(*args, **kwargs):\n",
    "            for _ in range(number_of_times):\n",
    "                func(*args, **kwargs)\n",
    "        return wrapper\n",
    "    return decorate"
   ]
  },
  {
   "attachments": {},
   "cell_type": "markdown",
   "metadata": {},
   "source": [
    "The following example defines a decorator called `repeat` that takes a number of times as an argument. The decorator then defines a function called `wrapper` that is wrapped around the function being decorated. The `wrapper` function calls the decorated function a number of times equal to the specified number."
   ]
  },
  {
   "cell_type": "code",
   "execution_count": 7,
   "metadata": {},
   "outputs": [
    {
     "name": "stdout",
     "output_type": "stream",
     "text": [
      "hello\n",
      "hello\n",
      "hello\n"
     ]
    }
   ],
   "source": [
    "@repeat(3)\n",
    "def dummy():\n",
    "    print(\"hello\")\n",
    "\n",
    "dummy()"
   ]
  },
  {
   "attachments": {},
   "cell_type": "markdown",
   "metadata": {},
   "source": [
    "# **@timeit ⏲️**\n",
    "This decorator measures the execution time of a function and prints the result: this serves as debugging or monitoring.\n",
    "\n",
    "In the following snippet, the `timeit` decorator measures the time it takes for the **process_data** function to execute and prints out the elapsed time in seconds."
   ]
  },
  {
   "cell_type": "code",
   "execution_count": 8,
   "metadata": {},
   "outputs": [
    {
     "name": "stdout",
     "output_type": "stream",
     "text": [
      "process_data took 1.005037 seconds to complete\n"
     ]
    }
   ],
   "source": [
    "import time\n",
    "from functools import wraps\n",
    "\n",
    "def timeit(func):\n",
    "    @wraps(func)\n",
    "    def wrapper(*args, **kwargs):\n",
    "        start = time.perf_counter()\n",
    "        result = func(*args, **kwargs)\n",
    "        end = time.perf_counter()\n",
    "        print(f'{func.__name__} took {end - start:.6f} seconds to complete')\n",
    "        return result\n",
    "    return wrapper\n",
    "\n",
    "@timeit\n",
    "def process_data():\n",
    "    time.sleep(1)\n",
    "\n",
    "process_data()"
   ]
  },
  {
   "attachments": {},
   "cell_type": "markdown",
   "metadata": {},
   "source": [
    "# **@retry 🔁**\n",
    "This decorator forces a function to retry a number of times when it encounters an exception.\n",
    "\n",
    "It takes three arguments: the number of retries, the exception to catch and retry on, and the sleep time between retries.\n",
    "\n",
    "It works like this:\\\n",
    "►The wrapper function starts a for-loop of num_retries iterations.\n",
    "\n",
    "►At each iteration, it calls the input function in a try/except block. When the call is successful, it breaks the loop and returns the result. Otherwise, it sleeps for sleep_time seconds and proceeds to the next iteration.\n",
    "\n",
    "►When the function call is not successful after the for loop ends, the wrapper function raises the exception.\n"
   ]
  },
  {
   "cell_type": "code",
   "execution_count": 17,
   "metadata": {},
   "outputs": [
    {
     "name": "stdout",
     "output_type": "stream",
     "text": [
      "random_value raised ValueError. Retrying...\n",
      "random_value raised ValueError. Retrying...\n"
     ]
    },
    {
     "data": {
      "text/plain": [
       "1"
      ]
     },
     "execution_count": 17,
     "metadata": {},
     "output_type": "execute_result"
    }
   ],
   "source": [
    "import random\n",
    "import time\n",
    "from functools import wraps\n",
    "\n",
    "def retry(num_retries, exception_to_check, sleep_time=0):\n",
    "    \"\"\"\n",
    "    Decorator that retries the execution of a function if it raises a specific exception.\n",
    "    \"\"\"\n",
    "    def decorate(func):\n",
    "        @wraps(func)\n",
    "        def wrapper(*args, **kwargs):\n",
    "            for i in range(1, num_retries+1):\n",
    "                try:\n",
    "                    return func(*args, **kwargs)\n",
    "                except exception_to_check as e:\n",
    "                    print(f\"{func.__name__} raised {e.__class__.__name__}. Retrying...\")\n",
    "                    if i < num_retries:\n",
    "                        time.sleep(sleep_time)\n",
    "            # Raise the exception if the function was not successful after the specified number of retries\n",
    "            raise e\n",
    "        return wrapper\n",
    "    return decorate\n",
    "\n",
    "@retry(num_retries=30, exception_to_check=ValueError, sleep_time=1)\n",
    "def random_value():\n",
    "    value = random.randint(1, 5)\n",
    "    if value == 3:\n",
    "        raise ValueError(\"Value cannot be 3\")\n",
    "    return value\n",
    "\n",
    "random_value()\n",
    "# random_value raised ValueError. Retrying...\n",
    "# 1"
   ]
  },
  {
   "attachments": {},
   "cell_type": "markdown",
   "metadata": {},
   "source": [
    "# **@countcall 🔢**\n",
    "This decorator counts the number of times a function has been called.\n",
    "\n",
    "This number is stored in the wrapper attribute `count` ."
   ]
  },
  {
   "cell_type": "code",
   "execution_count": 22,
   "metadata": {},
   "outputs": [
    {
     "name": "stdout",
     "output_type": "stream",
     "text": [
      "process_data has been called 1 times\n",
      "process_data has been called 2 times\n",
      "process_data has been called 3 times\n"
     ]
    }
   ],
   "source": [
    "from functools import wraps\n",
    "\n",
    "def countcall(func):\n",
    "    @wraps(func)\n",
    "    def wrapper(*args, **kwargs):\n",
    "        wrapper.count += 1\n",
    "        result = func(*args, **kwargs)\n",
    "        print(f'{func.__name__} has been called {wrapper.count} times')\n",
    "        return result\n",
    "    wrapper.count = 0\n",
    "    return wrapper\n",
    "\n",
    "@countcall\n",
    "def process_data():\n",
    "    pass\n",
    "\n",
    "process_data()\n",
    "process_data()\n",
    "process_data()"
   ]
  },
  {
   "cell_type": "code",
   "execution_count": null,
   "metadata": {},
   "outputs": [],
   "source": []
  },
  {
   "cell_type": "code",
   "execution_count": null,
   "metadata": {},
   "outputs": [],
   "source": []
  },
  {
   "cell_type": "code",
   "execution_count": null,
   "metadata": {},
   "outputs": [],
   "source": []
  }
 ],
 "metadata": {
  "kernelspec": {
   "display_name": "venv_tabular",
   "language": "python",
   "name": "python3"
  },
  "language_info": {
   "codemirror_mode": {
    "name": "ipython",
    "version": 3
   },
   "file_extension": ".py",
   "mimetype": "text/x-python",
   "name": "python",
   "nbconvert_exporter": "python",
   "pygments_lexer": "ipython3",
   "version": "3.10.12"
  },
  "orig_nbformat": 4,
  "vscode": {
   "interpreter": {
    "hash": "d3eb796b502ea9a7355a3a41d45190db6c242b521168207cd4e5867de2282fc7"
   }
  }
 },
 "nbformat": 4,
 "nbformat_minor": 2
}
